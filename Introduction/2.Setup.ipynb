{
 "cells": [
  {
   "cell_type": "markdown",
   "metadata": {
    "slideshow": {
     "slide_type": "slide"
    }
   },
   "source": [
    "<img src=\"https://raw.githubusercontent.com/PythonWorkshop/intro-to-nlp-with-pytorch/master/images/logo.png\" align=\"left\" width=\"25%\">\n",
    "\n",
    "# Setup for Workshop\n",
    "\n",
    "For this workshop, the Azure Data Science Virtual Machine will be used.  This is a VM one can fire up on Azure to perform data science tasks and is pre-installed with dozens of frameworks and packages for use.  It's a nice way to get started quickly without much overhead/setup which is one of the reasons we chose this for the workshop.  [Find out more here](https://docs.microsoft.com/en-us/azure/machine-learning/data-science-virtual-machine/overview).\n",
    "\n",
    "You will get credentials for a machine and log in at the URL provided.  This will be the jupyter notebook environment/playground provided to you for the day.  At the **end of the day you should zip up your notebooks and download** them as these VMs will disappear shortly thereafter into the sunset.  Be sure you are using `https`.  You may get a \"Your Connection is Not Private\" or other form of safety certificate error.  This is a known issue and we are working on it.  Please click through this by hitting the link on the page to continue."
   ]
  },
  {
   "cell_type": "markdown",
   "metadata": {
    "slideshow": {
     "slide_type": "slide"
    }
   },
   "source": [
    "**Let's take 10 minutes to ensure setup**"
   ]
  },
  {
   "cell_type": "markdown",
   "metadata": {
    "slideshow": {
     "slide_type": "slide"
    }
   },
   "source": [
    "## Your First Task\n",
    "\n",
    "1.  Log in to the DSVM with your provided credentials.  Or, if local, start a Jupyter notebook server and git clone this repository.\n",
    "2.  Navigate to `intro-to-nlp-with-pytorch`folder.\n",
    "2.  Open this notebook from the Introduction folder and if asked, choose the \"Python 3\" kernel.\n",
    "3.  Run the following code cells."
   ]
  },
  {
   "cell_type": "code",
   "execution_count": 3,
   "metadata": {
    "slideshow": {
     "slide_type": "slide"
    }
   },
   "outputs": [
    {
     "data": {
      "text/plain": [
       "{'/Library/Frameworks/Python.framework/Versions/3.6/bin/python3'}"
      ]
     },
     "execution_count": 3,
     "metadata": {},
     "output_type": "execute_result"
    }
   ],
   "source": [
    "# Which Python\n",
    "import sys\n",
    "{sys.executable}"
   ]
  },
  {
   "cell_type": "code",
   "execution_count": 4,
   "metadata": {
    "slideshow": {
     "slide_type": "slide"
    }
   },
   "outputs": [
    {
     "data": {
      "text/plain": [
       "'1.1.0'"
      ]
     },
     "execution_count": 4,
     "metadata": {},
     "output_type": "execute_result"
    }
   ],
   "source": [
    "# Which PyTorch\n",
    "import torch\n",
    "torch.__version__"
   ]
  },
  {
   "cell_type": "markdown",
   "metadata": {},
   "source": [
    "**If the PyTorch version is not 1.1, install by uncommenting and running the following:**\n"
   ]
  },
  {
   "cell_type": "code",
   "execution_count": null,
   "metadata": {},
   "outputs": [],
   "source": [
    "# import sys\n",
    "# ! {sys.executable} -m pip install torch==1.1.0 -y"
   ]
  },
  {
   "cell_type": "markdown",
   "metadata": {},
   "source": [
    "## Save Your Work at End of the Workshop!\n",
    "\n",
    "1.  Run the following `zip` command in this notebook.  \n",
    "2.  Go to the Jupyter file browser or click on \"Jupyter\" symbol at upper left corner to get there again\n",
    "3.  Place a check in the box by the `nlp_workshop.zip` file and click \"Download\""
   ]
  },
  {
   "cell_type": "code",
   "execution_count": null,
   "metadata": {},
   "outputs": [],
   "source": [
    "! zip -r nlp_workshop.zip ../../intro-to-nlp-with-pytorch"
   ]
  }
 ],
 "metadata": {
  "kernelspec": {
   "display_name": "Python 3.6 (sys)",
   "language": "python",
   "name": "py36sys"
  },
  "language_info": {
   "codemirror_mode": {
    "name": "ipython",
    "version": 3
   },
   "file_extension": ".py",
   "mimetype": "text/x-python",
   "name": "python",
   "nbconvert_exporter": "python",
   "pygments_lexer": "ipython3",
   "version": "3.6.6"
  },
  "nav_menu": {},
  "toc": {
   "navigate_menu": true,
   "number_sections": true,
   "sideBar": true,
   "threshold": 6,
   "toc_cell": false,
   "toc_section_display": "block",
   "toc_window_display": false
  }
 },
 "nbformat": 4,
 "nbformat_minor": 2
}
