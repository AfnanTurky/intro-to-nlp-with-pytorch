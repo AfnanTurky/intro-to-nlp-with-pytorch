{
  "cells": [
    {
      "metadata": {},
      "cell_type": "markdown",
      "source": "# Advanced Tutorial: Named Entity Recognition and the Bi-LSTM Conditional Random Field Algorithm\n\nTutorial Link:  https://pytorch.org/tutorials/beginner/nlp/advanced_tutorial.html"
    },
    {
      "metadata": {},
      "cell_type": "markdown",
      "source": "A bit more basic is the Bi-Directional Recurrent Neural Network ([Ref]()):\n\n<img src=\"https://raw.githubusercontent.com/PythonWorkshop/intro-to-nlp-with-pytorch/bi_lstm_crf/images/bilstm_flow.png\" width=\"50%\">\n\nIt does however show sequences that are embedded used to make predictions.  They are trained on both past as well as future information from the given data.  This will make more sense shortly."
    },
    {
      "metadata": {
        "trusted": true
      },
      "cell_type": "code",
      "source": "import sys\n{sys.executable}",
      "execution_count": 12,
      "outputs": [
        {
          "output_type": "execute_result",
          "execution_count": 12,
          "data": {
            "text/plain": "{'/home/nbuser/anaconda3_501/bin/python'}"
          },
          "metadata": {}
        }
      ]
    },
    {
      "metadata": {
        "trusted": true
      },
      "cell_type": "code",
      "source": "! {sys.executable} -m pip install jdc",
      "execution_count": 10,
      "outputs": [
        {
          "output_type": "stream",
          "text": "Requirement already satisfied: jdc in /home/nbuser/anaconda3_501/lib/python3.6/site-packages (0.0.8)\r\n",
          "name": "stdout"
        }
      ]
    },
    {
      "metadata": {
        "trusted": true
      },
      "cell_type": "code",
      "source": "import torch\ntorch.__version__",
      "execution_count": 2,
      "outputs": [
        {
          "output_type": "execute_result",
          "execution_count": 2,
          "data": {
            "text/plain": "'0.4.1'"
          },
          "metadata": {}
        }
      ]
    },
    {
      "metadata": {
        "trusted": true
      },
      "cell_type": "code",
      "source": "from bs4 import BeautifulSoup\nimport requests\nimport torch\nimport torch.autograd as autograd\nimport torch.nn as nn\nimport torch.optim as optim\nimport jdc\n\ntorch.manual_seed(1)",
      "execution_count": 15,
      "outputs": [
        {
          "output_type": "execute_result",
          "execution_count": 15,
          "data": {
            "text/plain": "<torch._C.Generator at 0x7f163dbcd6d0>"
          },
          "metadata": {}
        }
      ]
    },
    {
      "metadata": {},
      "cell_type": "markdown",
      "source": "## Outline\n\n* Definitions\n\n    * BLSTM\n    * CRF and potentials\n    * Viterbi (use example in https://en.wikipedia.org/wiki/Viterbi_algorithm)\n\n* Read in All Data\n\n* Helper Functions\n\n* Create the Network\n\n* Train\n\n* Evaluate\n\n* Exercise"
    },
    {
      "metadata": {},
      "cell_type": "markdown",
      "source": "## Definitions\n"
    },
    {
      "metadata": {},
      "cell_type": "markdown",
      "source": "### BLSTM (Bi-Long Short-Term Memory)\n\nAs we saw, an LSTM addresses the vanishing gradient problem of the generic RNN by adding cell state and more non-linear activation function layers to pass on or attenuate signals to varying degrees.  However, the main limitation of an LSTM is that it can **only account for context from the past**, that is, the hidden state, h_t, takes only past information as input.\n\nFor the task of **Named Entity Recognition (NER)** is helpful to have context from past as well as the future, or left and right contexts.  This can be addressed with a BLSTM which is two LSTMs, one processing information in a forward fashion as we have already seen and another LSTM that processes the sequences in a reverse fashion giving the future context.  _That second LSTM is just reading the sentence in reverse._  \n\nThe hidden states from both LSTMs are then concatenated into a final output layer or vector."
    },
    {
      "metadata": {},
      "cell_type": "markdown",
      "source": "### Conditional Random Field\n\nWe don't have to stop at the output vector from the BLSTM!  We're not to our tag for the entity, yet.  We need to understand costs of moving from one tag to the next (or staying put on a tag, even).\n\nIn a CRF, the parameters are simply the costs associated with transitioning from one tag to another in a sequence.  They are stored as a _transition matrix_ as is shown below.\n\nSay **B** is the tag for the beginning of a multi-word entity, **I** signifies that we are inside an entity (which could be one word) and **O** means we are outside an entity. \n\nHere's an example of B-I-O schema labeling (by the way, there are a myriad of other schemas out there - see [Referenes](#references) for some more).\n\n| Word | Schema Tag |\n| --- | --- |\n| Micheleen | I |\n| was | O |\n| born | O |\n| in | O |\n| North | B |\n| Carolina | I |\n| but | O |\n| grew | O |\n| up | O |\n| in | O |\n| Texas | I |\n\n\nLet's look at an example transition matrix for the costs of moving from one tag to the next (remember our BLSTM is understanding both the forward and reverse ordering to get more accurate boundaries for the named entities).\n\n<img src=\"https://raw.githubusercontent.com/PythonWorkshop/intro-to-nlp-with-pytorch/fbc7992e8c9399bb713bbf63664bf34b13f091c5/images/crf_transition_matrix.png\" width=\"60%\">"
    },
    {
      "metadata": {},
      "cell_type": "markdown",
      "source": "### Viterbi Algorithm\n\nThe Viterbi algorithm, by finding the optimal path, can figure out for us what the final tag should be for the input.  We decode the results from the CRF and, thus, it is often seen as the final step of a CRF.\n\n<img src=\"https://raw.githubusercontent.com/PythonWorkshop/intro-to-nlp-with-pytorch/bi_lstm_crf/images/viterbi.png\" width=\"70%\">\n"
    },
    {
      "metadata": {},
      "cell_type": "markdown",
      "source": "### Putting it All Together\n\nHere is an example from biomedical research text.\n\nHere we have word embeddings as the data for the forward and reverse LSTMs.  The resulting forward vector (V_f) and backwards vector (V_b) are concatenated into a final vector (V_o) that feeds into the CRF layer and is decoded via the Viterbi algorithm into the optimal tag for that input.\n\n<br><br>\n\n![Bi LSTM detail](https://ars.els-cdn.com/content/image/1-s2.0-S1532046417300977-gr4.jpg)\n\n<div  align=\"right\"><a href=\"https://www.sciencedirect.com/science/article/pii/S1532046417300977\">Reference</a></div>"
    },
    {
      "metadata": {},
      "cell_type": "markdown",
      "source": "## Read in All Data"
    },
    {
      "metadata": {},
      "cell_type": "markdown",
      "source": "* To use later"
    },
    {
      "metadata": {
        "trusted": true
      },
      "cell_type": "code",
      "source": "# This data is for updating training data or to use in the exercise\nwith open('sample_data.txt', 'r') as f:\n    data = f.read()\nprint(data)",
      "execution_count": 4,
      "outputs": [
        {
          "output_type": "error",
          "ename": "FileNotFoundError",
          "evalue": "[Errno 2] No such file or directory: 'sample_data.txt'",
          "traceback": [
            "\u001b[0;31m---------------------------------------------------------------------------\u001b[0m",
            "\u001b[0;31mFileNotFoundError\u001b[0m                         Traceback (most recent call last)",
            "\u001b[0;32m<ipython-input-4-49c82b7bb2a8>\u001b[0m in \u001b[0;36m<module>\u001b[0;34m()\u001b[0m\n\u001b[1;32m      1\u001b[0m \u001b[0;31m# This data is for updating training data or to use in the exercise\u001b[0m\u001b[0;34m\u001b[0m\u001b[0;34m\u001b[0m\u001b[0m\n\u001b[0;32m----> 2\u001b[0;31m \u001b[0;32mwith\u001b[0m \u001b[0mopen\u001b[0m\u001b[0;34m(\u001b[0m\u001b[0;34m'sample_data.txt'\u001b[0m\u001b[0;34m,\u001b[0m \u001b[0;34m'r'\u001b[0m\u001b[0;34m)\u001b[0m \u001b[0;32mas\u001b[0m \u001b[0mf\u001b[0m\u001b[0;34m:\u001b[0m\u001b[0;34m\u001b[0m\u001b[0m\n\u001b[0m\u001b[1;32m      3\u001b[0m     \u001b[0mdata\u001b[0m \u001b[0;34m=\u001b[0m \u001b[0mf\u001b[0m\u001b[0;34m.\u001b[0m\u001b[0mread\u001b[0m\u001b[0;34m(\u001b[0m\u001b[0;34m)\u001b[0m\u001b[0;34m\u001b[0m\u001b[0m\n\u001b[1;32m      4\u001b[0m \u001b[0mprint\u001b[0m\u001b[0;34m(\u001b[0m\u001b[0mdata\u001b[0m\u001b[0;34m)\u001b[0m\u001b[0;34m\u001b[0m\u001b[0m\n",
            "\u001b[0;31mFileNotFoundError\u001b[0m: [Errno 2] No such file or directory: 'sample_data.txt'"
          ]
        }
      ]
    },
    {
      "metadata": {},
      "cell_type": "markdown",
      "source": "### Label small sample of data"
    },
    {
      "metadata": {},
      "cell_type": "markdown",
      "source": "Label Meanings\n\n* B stands for 'beginning' (signifies beginning of an NE)\n* I stands for 'inside' (signifies that the word is inside an NE)\n* O stands for 'outside' (signifies that the word is just a regular word outside of an NE)\n\nMore information on label schemas [here](http://natural-language-understanding.wikia.com/wiki/Named_entity_recognition)"
    },
    {
      "metadata": {},
      "cell_type": "markdown",
      "source": "## Helper Functions"
    },
    {
      "metadata": {
        "trusted": true
      },
      "cell_type": "code",
      "source": "def argmax(vec):\n    # return the argmax as a python int\n    _, idx = torch.max(vec, 1)\n    return idx.item()\n\n\ndef prepare_sequence(seq, to_ix):\n    idxs = [to_ix[w] for w in seq]\n    return torch.tensor(idxs, dtype=torch.long)\n\n\n# Compute log sum exp in a numerically stable way for the forward algorithm\n# https://pytorch.org/docs/master/tensors.html#torch.Tensor.expand\ndef log_sum_exp(vec):\n    max_score = vec[0, argmax(vec)]\n    max_score_broadcast = max_score.view(1, -1).expand(1, vec.size()[1])\n    return max_score + \\\n        torch.log(torch.sum(torch.exp(vec - max_score_broadcast)))",
      "execution_count": 26,
      "outputs": []
    },
    {
      "metadata": {},
      "cell_type": "markdown",
      "source": "## Create the Network"
    },
    {
      "metadata": {
        "trusted": true
      },
      "cell_type": "code",
      "source": "class BiLSTM_CRF(nn.Module):\n\n    def __init__(self, vocab_size, tag_to_ix, embedding_dim, hidden_dim):\n        super(BiLSTM_CRF, self).__init__()\n        self.embedding_dim = embedding_dim\n        self.hidden_dim = hidden_dim # represents both directions\n        self.vocab_size = vocab_size\n        self.tag_to_ix = tag_to_ix\n        self.tagset_size = len(tag_to_ix)\n\n        self.word_embeds = nn.Embedding(vocab_size, embedding_dim)\n        self.lstm = nn.LSTM(embedding_dim, hidden_dim // 2,\n                            num_layers=1, bidirectional=True)\n\n        # Maps the output of the LSTM into tag space.\n        self.hidden2tag = nn.Linear(hidden_dim, self.tagset_size)\n\n        # Matrix of transition parameters.  Entry i,j is the score of\n        # transitioning *to* i *from* j.\n        self.transitions = nn.Parameter(\n            torch.randn(self.tagset_size, self.tagset_size))\n\n        # These two statements enforce the constraint that we never transfer\n        # to the start tag and we never transfer from the stop tag\n        # CRF parts\n        self.transitions.data[tag_to_ix[START_TAG], :] = -10000\n        self.transitions.data[:, tag_to_ix[STOP_TAG]] = -10000\n\n        self.hidden = self.init_hidden()",
      "execution_count": 16,
      "outputs": []
    },
    {
      "metadata": {
        "trusted": true
      },
      "cell_type": "code",
      "source": "%%add_to BiLSTM_CRF\n\n    def init_hidden(self):\n        \"\"\"Two tensors to hold hidden states, one for each\n        LSTM direction with dimensions of (num_layers, \n        minibatch, hidden_dim)\"\"\"\n        # Minibatch small bc small dataset below\n        return (torch.randn(2, 1, self.hidden_dim // 2),\n                torch.randn(2, 1, self.hidden_dim // 2))",
      "execution_count": 19,
      "outputs": []
    },
    {
      "metadata": {
        "trusted": true
      },
      "cell_type": "code",
      "source": "%%add_to BiLSTM_CRF\n\n\n    def _forward_alg(self, feats):\n        \"\"\"Conditional Random Field\"\"\"\n        # Do the forward algorithm to compute the partition function\n        ## define full TODO\n        init_alphas = torch.full((1, self.tagset_size), -10000.)\n        # START_TAG has all of the score/cost\n        init_alphas[0][self.tag_to_ix[START_TAG]] = 0.\n\n        # Wrap in a variable so that we will get automatic backprop\n        forward_var = init_alphas\n\n        # Iterate through the sentence\n        for feat in feats:\n            alphas_t = []  # The forward tensors at this timestep\n            for next_tag in range(self.tagset_size):\n                # broadcast (copy into new dim) the emission score: \n                # it is the same regardless of\n                # the previous tag\n                emit_score = feat[next_tag].view(\n                    1, -1).expand(1, self.tagset_size)\n                # the ith entry of trans_score is the score of transitioning to\n                # next_tag from i\n                trans_score = self.transitions[next_tag].view(1, -1)\n                # The ith entry of next_tag_var is the value for the\n                # edge (i -> next_tag) before we do log-sum-exp\n                next_tag_var = forward_var + trans_score + emit_score\n                # The forward variable for this tag is log-sum-exp of all the\n                # scores.\n                alphas_t.append(log_sum_exp(next_tag_var).view(1))\n            forward_var = torch.cat(alphas_t).view(1, -1) # torch.cat TODO\n        terminal_var = forward_var + self.transitions[self.tag_to_ix[STOP_TAG]]\n        alpha = log_sum_exp(terminal_var)\n        return alpha",
      "execution_count": 18,
      "outputs": []
    },
    {
      "metadata": {
        "trusted": true
      },
      "cell_type": "code",
      "source": "%%add_to BiLSTM_CRF\n\n    def _get_lstm_features(self, sentence):\n        self.hidden = self.init_hidden()\n        embeds = self.word_embeds(sentence).view(len(sentence), 1, -1)\n        lstm_out, self.hidden = self.lstm(embeds, self.hidden)\n        lstm_out = lstm_out.view(len(sentence), self.hidden_dim)\n        lstm_feats = self.hidden2tag(lstm_out)\n        return lstm_feats",
      "execution_count": 20,
      "outputs": []
    },
    {
      "metadata": {
        "trusted": true
      },
      "cell_type": "code",
      "source": "%%add_to BiLSTM_CRF\n\n    def _score_sentence(self, feats, tags):\n        # Gives the score of a provided tag sequence\n        score = torch.zeros(1)\n        tags = torch.cat([torch.tensor([self.tag_to_ix[START_TAG]], dtype=torch.long), tags])\n        for i, feat in enumerate(feats):\n            score = score + \\\n                self.transitions[tags[i + 1], tags[i]] + feat[tags[i + 1]]\n        score = score + self.transitions[self.tag_to_ix[STOP_TAG], tags[-1]]\n        return score",
      "execution_count": 21,
      "outputs": []
    },
    {
      "metadata": {
        "trusted": true
      },
      "cell_type": "code",
      "source": "%%add_to BiLSTM_CRF\n\n    def _viterbi_decode(self, feats):\n        backpointers = []\n\n        # Initialize the viterbi variables in log space\n        init_vvars = torch.full((1, self.tagset_size), -10000.)\n        init_vvars[0][self.tag_to_ix[START_TAG]] = 0\n\n        # forward_var at step i holds the viterbi variables for step i-1\n        forward_var = init_vvars\n        for feat in feats:\n            bptrs_t = []  # holds the backpointers for this step\n            viterbivars_t = []  # holds the viterbi variables for this step\n\n            for next_tag in range(self.tagset_size):\n                # next_tag_var[i] holds the viterbi variable for tag i at the\n                # previous step, plus the score of transitioning\n                # from tag i to next_tag.\n                # We don't include the emission scores here because the max\n                # does not depend on them (we add them in below)\n                next_tag_var = forward_var + self.transitions[next_tag]\n                best_tag_id = argmax(next_tag_var)\n                bptrs_t.append(best_tag_id)\n                viterbivars_t.append(next_tag_var[0][best_tag_id].view(1))\n            # Now add in the emission scores, and assign forward_var to the set\n            # of viterbi variables we just computed\n            forward_var = (torch.cat(viterbivars_t) + feat).view(1, -1)\n            backpointers.append(bptrs_t)\n\n        # Transition to STOP_TAG\n        terminal_var = forward_var + self.transitions[self.tag_to_ix[STOP_TAG]]\n        best_tag_id = argmax(terminal_var)\n        path_score = terminal_var[0][best_tag_id]\n\n        # Follow the back pointers to decode the best path.\n        best_path = [best_tag_id]\n        for bptrs_t in reversed(backpointers):\n            best_tag_id = bptrs_t[best_tag_id]\n            best_path.append(best_tag_id)\n        # Pop off the start tag (we dont want to return that to the caller)\n        start = best_path.pop()\n        assert start == self.tag_to_ix[START_TAG]  # Sanity check\n        best_path.reverse()\n        return path_score, best_path",
      "execution_count": 22,
      "outputs": []
    },
    {
      "metadata": {
        "trusted": true
      },
      "cell_type": "code",
      "source": "%%add_to BiLSTM_CRF\n\n    def neg_log_likelihood(self, sentence, tags):\n        feats = self._get_lstm_features(sentence)\n        forward_score = self._forward_alg(feats)\n        gold_score = self._score_sentence(feats, tags)\n        return forward_score - gold_score",
      "execution_count": 23,
      "outputs": []
    },
    {
      "metadata": {
        "trusted": true
      },
      "cell_type": "code",
      "source": "%%add_to BiLSTM_CRF\n\ndef forward(self, sentence):  # dont confuse this with _forward_alg above.\n        # Get the emission scores from the BiLSTM\n        lstm_feats = self._get_lstm_features(sentence)\n\n        # Find the best path, given the features.\n        score, tag_seq = self._viterbi_decode(lstm_feats)\n        return score, tag_seq",
      "execution_count": 24,
      "outputs": []
    },
    {
      "metadata": {},
      "cell_type": "markdown",
      "source": "## Train"
    },
    {
      "metadata": {},
      "cell_type": "markdown",
      "source": "SGD weight_decay"
    },
    {
      "metadata": {
        "trusted": true
      },
      "cell_type": "code",
      "source": "START_TAG = \"<START>\"\nSTOP_TAG = \"<STOP>\"\nEMBEDDING_DIM = 5\nHIDDEN_DIM = 4\n\n# Make up some training data\ntraining_data = [(\n    \"strain broth through a fine sieve (or a colander lined \\\n         with cheesecloth) into a separate container.\".split(),\n    \"B I O O O I O O I O O I O O B I\".split()\n), (\n    \"pour broth into pot with vegetables and heat to a simmer.\".split(),\n    \"B I O I O I O O O O O\".split()\n)]\n\nword_to_ix = {}\nfor sentence, tags in training_data:\n    for word in sentence:\n        if word not in word_to_ix:\n            word_to_ix[word] = len(word_to_ix)\n\ntag_to_ix = {\"B\": 0, \"I\": 1, \"O\": 2, START_TAG: 3, STOP_TAG: 4}\n\nmodel = BiLSTM_CRF(len(word_to_ix), tag_to_ix, EMBEDDING_DIM, HIDDEN_DIM)\noptimizer = optim.SGD(model.parameters(), lr=0.01, weight_decay=1e-4)\n\n# Check predictions before training\nwith torch.no_grad():\n    precheck_sent = prepare_sequence(training_data[0][0], word_to_ix)\n    precheck_tags = torch.tensor([tag_to_ix[t] for t in training_data[0][1]], dtype=torch.long)\n    print(model(precheck_sent))\n\n# Make sure prepare_sequence from earlier in the LSTM section is loaded\nfor epoch in range(\n        300):  # again, normally you would NOT do 300 epochs, it is toy data\n    for sentence, tags in training_data:\n        # Step 1. Remember that Pytorch accumulates gradients.\n        # We need to clear them out before each instance\n        model.zero_grad()\n\n        # Step 2. Get our inputs ready for the network, that is,\n        # turn them into Tensors of word indices.\n        sentence_in = prepare_sequence(sentence, word_to_ix)\n        targets = torch.tensor([tag_to_ix[t] for t in tags], dtype=torch.long)\n\n        # Step 3. Run our forward pass.\n        loss = model.neg_log_likelihood(sentence_in, targets)\n\n        # Step 4. Compute the loss, gradients, and update the parameters by\n        # calling optimizer.step()\n        loss.backward()\n        optimizer.step()\n\n# Check predictions after training\n# No need to accumulate gradients because this is a validation\nwith torch.no_grad():\n    precheck_sent = prepare_sequence(training_data[0][0], word_to_ix)\n    print(model(precheck_sent))\n    print(training_data[0][0])\n# We got it!",
      "execution_count": 27,
      "outputs": [
        {
          "output_type": "stream",
          "text": "(tensor(23.8509), [0, 1, 2, 1, 2, 1, 2, 1, 2, 1, 2, 1, 2, 1, 2, 1])\n(tensor(50.9579), [0, 1, 2, 2, 2, 1, 2, 2, 1, 2, 2, 1, 2, 2, 0, 1])\n['strain', 'broth', 'through', 'a', 'fine', 'sieve', '(or', 'a', 'colander', 'lined', 'with', 'cheesecloth)', 'into', 'a', 'separate', 'container.']\n",
          "name": "stdout"
        }
      ]
    },
    {
      "metadata": {},
      "cell_type": "markdown",
      "source": "## Evaluate\n\nLet's test our model on an unseen sentence.\n\n"
    },
    {
      "metadata": {
        "trusted": true
      },
      "cell_type": "code",
      "source": "test_data = [(\n    \"serve immediately, in a tureen or from the pot, sprinkling \\\n        each serving with herbs\".split(),\n    \"B O O O I O O O I O O I O I\".split()\n)]\n\nword_to_ix = {}\nfor sentence, tags in test_data:\n    for word in sentence:\n        if word not in word_to_ix:\n            word_to_ix[word] = len(word_to_ix)\nprint(word_to_ix)",
      "execution_count": 10,
      "outputs": [
        {
          "output_type": "stream",
          "text": "{'sprinkling': 9, 'with': 12, 'serve': 0, 'each': 10, 'from': 6, 'the': 7, 'in': 2, 'pot,': 8, 'or': 5, 'serving': 11, 'a': 3, 'immediately,': 1, 'herbs': 13, 'tureen': 4}\n",
          "name": "stdout"
        }
      ]
    },
    {
      "metadata": {
        "trusted": true
      },
      "cell_type": "code",
      "source": "with torch.no_grad():\n    precheck_sent = prepare_sequence(test_data[0][0], word_to_ix)\n    print(model(precheck_sent))\n    print(test_data[0][1])\n    print(test_data[0][0])",
      "execution_count": 11,
      "outputs": [
        {
          "output_type": "stream",
          "text": "(tensor(42.5768), [0, 1, 2, 2, 2, 1, 2, 1, 2, 2, 1, 2, 1, 1])\n['B', 'O', 'O', 'O', 'I', 'O', 'O', 'O', 'I', 'O', 'O', 'I', 'O', 'I']\n['serve', 'immediately,', 'in', 'a', 'tureen', 'or', 'from', 'the', 'pot,', 'sprinkling', 'each', 'serving', 'with', 'herbs']\n",
          "name": "stdout"
        }
      ]
    },
    {
      "metadata": {},
      "cell_type": "markdown",
      "source": "## Exercise\n\nUse BeautifulSoup Python library and the Requests library to download a recipe of your choosing from https://cooking.nytimes.com/ and find it's steps section.\n\n\nTo get started, you can:\n\n```python\npage = requests.get('')\nsoup = BeautifulSoup(page.content, 'html.parser')\nsteps = soup.findAll(\"ol\", {\"class\": \"recipe-steps\"})\n```\n\nInstructions:\n1. Clean up the html tags.\n2. Label entities with YEDDA.\n3. Save the labels as text and write code to identify entities as labels for the BiLSTM above.\n4. Run a BiLSTM on this data and validate the predictions against the original labels."
    },
    {
      "metadata": {},
      "cell_type": "markdown",
      "source": "## References\n\n1. [Understanding Bidirectional RNN in PyTorch](https://towardsdatascience.com/understanding-bidirectional-rnn-in-pytorch-5bd25a5dd66)\n2. [Character-level neural network for biomedical named entity recognition](https://www.sciencedirect.com/science/article/pii/S1532046417300977)\n3.  [Other named entity tags](https://lingpipe-blog.com/2009/10/14/coding-chunkers-as-taggers-io-bio-bmewo-and-bmewo/)"
    },
    {
      "metadata": {
        "trusted": false
      },
      "cell_type": "code",
      "source": "page = requests.get('https://cooking.nytimes.com/recipes/1018442-chicken-soup-from-scratch')\nsoup = BeautifulSoup(page.content, 'html.parser')\nsteps = soup.findAll(\"ol\", {\"class\": \"recipe-steps\"})\n\nimport re\n\ndef cleanhtml(raw_html):\n    cleanr = re.compile('<.*?>')\n    # Remove html tags\n    cleantext = re.sub(cleanr, '', raw_html)\n    cleantext = cleantext.replace('\\n', ' ').rstrip().strip()\n    # Remove special quotes\n    cleantext = cleantext.replace('“', '').replace('”', '')\n    cleantext = cleantext.lower()\n    return cleantext\n\ncleansteps = cleanhtml(str(steps[0]))\ncleansteps\n\nwith open('sample_data.txt', 'w') as f:\n    f.write(cleansteps)",
      "execution_count": null,
      "outputs": []
    },
    {
      "metadata": {
        "trusted": false
      },
      "cell_type": "code",
      "source": "",
      "execution_count": null,
      "outputs": []
    }
  ],
  "metadata": {
    "kernelspec": {
      "name": "python36",
      "display_name": "Python 3.6",
      "language": "python"
    },
    "language_info": {
      "mimetype": "text/x-python",
      "nbconvert_exporter": "python",
      "name": "python",
      "pygments_lexer": "ipython3",
      "version": "3.6.3",
      "file_extension": ".py",
      "codemirror_mode": {
        "version": 3,
        "name": "ipython"
      }
    },
    "nav_menu": {},
    "toc": {
      "navigate_menu": true,
      "number_sections": true,
      "sideBar": true,
      "threshold": 6,
      "toc_cell": false,
      "toc_section_display": "block",
      "toc_window_display": false
    }
  },
  "nbformat": 4,
  "nbformat_minor": 2
}