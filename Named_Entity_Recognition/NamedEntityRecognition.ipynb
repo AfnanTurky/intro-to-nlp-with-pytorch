{
 "cells": [
  {
   "cell_type": "markdown",
   "metadata": {
    "slideshow": {
     "slide_type": "slide"
    }
   },
   "source": [
    "# Advanced Tutorial: Named Entity Recognition using a Bi-LSTM with the Conditional Random Field Algorithm\n",
    "\n",
    "Tutorial Link:  https://pytorch.org/tutorials/beginner/nlp/advanced_tutorial.html"
   ]
  },
  {
   "cell_type": "markdown",
   "metadata": {
    "slideshow": {
     "slide_type": "slide"
    }
   },
   "source": [
    "<img src=\"https://raw.githubusercontent.com/PythonWorkshop/intro-to-nlp-with-pytorch/master/images/bilstm_flow.png\" width=\"80%\">\n",
    "\n",
    "The Bi-LSTM is trained on both past as well as future information from the given data as word embeddings or vectors representing the input words."
   ]
  },
  {
   "cell_type": "markdown",
   "metadata": {
    "slideshow": {
     "slide_type": "slide"
    }
   },
   "source": [
    "## Outline\n",
    "\n",
    "* Definitions\n",
    "\n",
    "    * Bi-LSTM\n",
    "    * CRF and potentials\n",
    "    * Viterbi\n",
    "\n",
    "* Helper Functions\n",
    "\n",
    "* Data\n",
    "\n",
    "* Create the Network\n",
    "\n",
    "* Train\n",
    "\n",
    "* Evaluate\n",
    "\n",
    "* Exercises"
   ]
  },
  {
   "cell_type": "markdown",
   "metadata": {
    "slideshow": {
     "slide_type": "slide"
    }
   },
   "source": [
    "## Definitions\n"
   ]
  },
  {
   "cell_type": "markdown",
   "metadata": {
    "slideshow": {
     "slide_type": "slide"
    }
   },
   "source": [
    "### Bi-LSTM (Bidirectional-Long Short-Term Memory)\n",
    "\n",
    "As we saw, an LSTM addresses the vanishing gradient problem of the generic RNN by adding cell state and more non-linear activation function layers to pass on or attenuate signals to varying degrees.  However, the main limitation of an LSTM is that it can **only account for context from the past**, that is, the hidden state, h_t, takes only past information as input."
   ]
  },
  {
   "cell_type": "markdown",
   "metadata": {
    "slideshow": {
     "slide_type": "slide"
    }
   },
   "source": [
    "#### Named Entity Recognition Task\n",
    "\n",
    "For the task of **Named Entity Recognition (NER)** it is helpful to have context from past as well as the future, or left and right contexts.  This can be addressed with a Bi-LSTM which is two LSTMs, one processing information in a forward fashion as we have already seen and another LSTM that processes the sequences in a reverse fashion giving the future context.  _That second LSTM is just reading the sentence in reverse._  \n",
    "\n",
    "The hidden states from both LSTMs are then concatenated into a final output layer or vector."
   ]
  },
  {
   "cell_type": "markdown",
   "metadata": {
    "slideshow": {
     "slide_type": "slide"
    }
   },
   "source": [
    "### Conditional Random Field\n",
    "\n",
    "We don't have to stop at the output vector from the Bi-LSTM!  We're not at our tag for the entity, yet.  We need to understand costs of moving from one tag to the next (or staying put on a tag, even).\n",
    "\n",
    "In a CRF, we have the concept of a _transition matrix_ which is the costs associated with transitioning from one tag to another - a transition matrix is calculated/trained for each time step.  It is used in the determination of the best path through all potential sequences."
   ]
  },
  {
   "cell_type": "markdown",
   "metadata": {
    "slideshow": {
     "slide_type": "slide"
    }
   },
   "source": [
    "Say **B** is the tag for the beginning of an entity, **I** signifies that we are inside an entity (will follow a **B**) and **O** means we are outside an entity. \n",
    "\n",
    "Next, is an example of B-I-O scheme labeling for finding nouns in a sentence (by the way, there are a myriad of other schemes out there - see [Referenes](#references) for some more)."
   ]
  },
  {
   "cell_type": "markdown",
   "metadata": {
    "slideshow": {
     "slide_type": "slide"
    }
   },
   "source": [
    "| Word | Scheme Tag |\n",
    "| --- | --- |\n",
    "| She | B |\n",
    "| was | O |\n",
    "| born | O |\n",
    "| in | O |\n",
    "| North | B |\n",
    "| Carolina | I |\n",
    "| but | O |\n",
    "| grew | O |\n",
    "| up | O |\n",
    "| in | O |\n",
    "| Texas | B |"
   ]
  },
  {
   "cell_type": "markdown",
   "metadata": {
    "slideshow": {
     "slide_type": "slide"
    }
   },
   "source": [
    "Let's look at the transition matrix for the costs of moving from one tag (using our B-I-O scheme) to the next (remember our Bi-LSTM is understanding both the forward and reverse ordering to get more accurate boundaries for the named entities)."
   ]
  },
  {
   "cell_type": "markdown",
   "metadata": {
    "slideshow": {
     "slide_type": "slide"
    }
   },
   "source": [
    "<img src=\"../images/crf_transition_matrix.png\" width=\"60%\">\n",
    "\n",
    "The mathematical derivations for calculating this matrix and decoding it is beyond the scope of this notebook, however if you wish to learn more see [this](http://www.cs.columbia.edu/~mcollins/crf.pdf) article."
   ]
  },
  {
   "cell_type": "markdown",
   "metadata": {
    "slideshow": {
     "slide_type": "slide"
    }
   },
   "source": [
    "### Viterbi Algorithm\n",
    "\n",
    "If each Bi-LSTM instance (time step) has an associated output feature map and CRF transition and emission values, then each of these time step outputs will need to be decoded into a path through potential tags and a final score determined.  This is the purpose of the Viterbi algorithm, here, which is commonly used in conjunction with CRFs.\n",
    "\n",
    "Specifically, the Viterbi algorithm finds the optimal path through a sequence given a cost function by tracing backwards through a graph of all possible paths.  There are computational tricks to finding this path in the high dimensional space and we will see this in the code below (`_viterbi_decode`).\n",
    "\n",
    "Here, let's see a simple example of just the Viterbi algorithm.  The simplicity of Viterbi is that at each time step, it \"looks to the left\" to find that best path and then moves to the right, repeating this \"look to the left\" until a \"survivor path\" or optimal path is found with the last column being the possible tags.  The score may also be found by tracing backwards along this path and using the metric decided upon.\n",
    "\n",
    "In this example the optimal score (via a metric) is the lowest one, however, one could also look for the highest scoring path if another metric is used as is shown next."
   ]
  },
  {
   "cell_type": "markdown",
   "metadata": {
    "slideshow": {
     "slide_type": "slide"
    }
   },
   "source": [
    "<img src=\"https://raw.githubusercontent.com/PythonWorkshop/intro-to-nlp-with-pytorch/master/images/viterbi.png\" width=\"70%\">\n",
    "\n",
    "\n",
    "Getting more realistic...\n",
    "\n",
    "With regards to our NER work here, below is an example of a \"survivor\" path within the context of the linear-CRF where we are trying to find the highest scoring path through a sequence (giving us the tags and final score).  The transition matrix values are represented by the arrows and a sequence vector is shown as part of the overall cost function.\n",
    "\n",
    "<img src=\"../images/linear_crf_example.png\" width=\"70%\">"
   ]
  },
  {
   "cell_type": "markdown",
   "metadata": {
    "slideshow": {
     "slide_type": "slide"
    }
   },
   "source": [
    "### Putting it All Together\n",
    "\n",
    "Here we have word embeddings as the data for the forward and reverse LSTMs.  The resulting forward vector (V_f) and backwards vector (V_b or Output layer, here) are concatenated into a final vector (V_o) that feeds into the CRF layer and is decoded via the Viterbi algorithm (part of CRF layer) into the optimal tag for that input.  Note, the initial values for the Hidden inputs for each LSTM (forward and reverse) are often a vector of random numbers."
   ]
  },
  {
   "cell_type": "markdown",
   "metadata": {
    "slideshow": {
     "slide_type": "slide"
    }
   },
   "source": [
    "<br><br>\n",
    "\n",
    "<img src=\"https://raw.githubusercontent.com/PythonWorkshop/intro-to-nlp-with-pytorch/master/images/blstm_crf_details.png\" width=\"70%\">\n",
    "\n",
    "\n",
    "<div  align=\"right\"><a href=\"https://www.sciencedirect.com/science/article/pii/S1532046417300977\">Reference</a></div>\n",
    "\n",
    "> For a more in-depth discussion, see this excellent post describing the Bi-LSTM, CRF and usage of the Viterbi Algorithm (among other NER concepts and equations): [post](https://guillaumegenthial.github.io/sequence-tagging-with-tensorflow.html)."
   ]
  },
  {
   "cell_type": "markdown",
   "metadata": {},
   "source": [
    "**EXERCISE**:  What's wrong with the above diagram??"
   ]
  },
  {
   "cell_type": "code",
   "execution_count": 1,
   "metadata": {
    "slideshow": {
     "slide_type": "slide"
    }
   },
   "outputs": [
    {
     "data": {
      "text/plain": [
       "{'/Library/Frameworks/Python.framework/Versions/3.6/bin/python3'}"
      ]
     },
     "execution_count": 1,
     "metadata": {},
     "output_type": "execute_result"
    }
   ],
   "source": [
    "import sys\n",
    "{sys.executable}"
   ]
  },
  {
   "cell_type": "markdown",
   "metadata": {},
   "source": [
    "**Make sure the PyTorch version here matches the `requirements.txt` file**"
   ]
  },
  {
   "cell_type": "code",
   "execution_count": 2,
   "metadata": {
    "slideshow": {
     "slide_type": "slide"
    }
   },
   "outputs": [
    {
     "data": {
      "text/plain": [
       "'1.1.0'"
      ]
     },
     "execution_count": 2,
     "metadata": {},
     "output_type": "execute_result"
    }
   ],
   "source": [
    "import torch\n",
    "torch.__version__"
   ]
  },
  {
   "cell_type": "code",
   "execution_count": 3,
   "metadata": {
    "slideshow": {
     "slide_type": "slide"
    }
   },
   "outputs": [
    {
     "data": {
      "text/plain": [
       "<torch._C.Generator at 0x10cd9f970>"
      ]
     },
     "execution_count": 3,
     "metadata": {},
     "output_type": "execute_result"
    }
   ],
   "source": [
    "# Imports for this tutorial\n",
    "import torch\n",
    "import torch.autograd as autograd\n",
    "import torch.nn as nn\n",
    "import torch.optim as optim\n",
    "import jdc\n",
    "import json\n",
    "from collections import defaultdict, OrderedDict\n",
    "import math\n",
    "import numpy as np\n",
    "\n",
    "torch.manual_seed(1)"
   ]
  },
  {
   "cell_type": "markdown",
   "metadata": {
    "slideshow": {
     "slide_type": "slide"
    }
   },
   "source": [
    "## Helper Functions"
   ]
  },
  {
   "cell_type": "markdown",
   "metadata": {},
   "source": [
    "EXERCISE:  Fill in the missing \"blanks\" (`___`) with the correct code in a new cell.\n",
    "\n",
    "```python\n",
    "def argmax(vec):\n",
    "    \"\"\"Return the argmax as a python int\"\"\"\n",
    "    _, idx = torch.max(vec, 1)\n",
    "    return idx.___()\n",
    "\n",
    "\n",
    "def prepare_sequence(seq, to_ix):\n",
    "    \"\"\"\n",
    "    Input:\n",
    "        seq - the sequence (array)\n",
    "        to_ix - the indices to which seqence values are converted (dict)\n",
    "        \n",
    "    Output:\n",
    "        Numerical tensor\n",
    "        \"\"\"\n",
    "    idxs = [to_ix[w] for w in seq]\n",
    "    return torch.___(idxs, dtype=torch.long)\n",
    "\n",
    "def log_sum_exp(vec):\n",
    "    \"\"\"Compute log sum exp in a numerically stable way for \n",
    "    the forward algorithm\"\"\"\n",
    "    max_score = vec[0, argmax(vec)]\n",
    "    max_score_broadcast = max_score.___(1, -1).expand(1, vec.size()[1])\n",
    "    return max_score + \\\n",
    "        torch.log(torch.sum(torch.exp(vec - max_score_broadcast)))\n",
    "```"
   ]
  },
  {
   "cell_type": "code",
   "execution_count": null,
   "metadata": {},
   "outputs": [],
   "source": []
  },
  {
   "cell_type": "markdown",
   "metadata": {
    "slideshow": {
     "slide_type": "slide"
    }
   },
   "source": [
    "## Data\n",
    "\n",
    "The data for this notebook came from GitHub <a href=\"https://github.com/tensorflow/tensorflow/issues\" target=\"_blank\">issues for Tensorflow</a> - sentences in which _inline_ code was found.\n",
    "\n",
    "**Problem statement**:  Predict in a corpus, what parts are Python code snippets - i.e. Python code is an entity we are trying to identify in text."
   ]
  },
  {
   "cell_type": "markdown",
   "metadata": {},
   "source": [
    "### Labeling data\n",
    "\n",
    "**Install notes for Mac**:\n",
    "\n",
    "* Install <a href=\"https://github.com/chakki-works/doccano#installation\" target=\"_blank\">doccano</a> into a Python environment (a <a href=\"https://docs.python.org/3.6/library/venv.html\" target=\"_blank\">virtual environment</a> for e.g.) (follow Option 2)\n",
    "  * Create the virtual environment (recommended) or use a conda environment/native (Python 3.6+)\n",
    "  * Make sure to _first_ install (before what's in `requirements.txt`:\n",
    "    * <a href=\"http://postgresapp.com\" target=\"blank\">Postgres app</a>\n",
    "    * `sudo pip install psycopg2` to install ps_config (needed by doccano install)\n",
    "  * Then proceed with rest of local install (Option 2)\n",
    "* Run the app according to the Usage instructions in the doccano Readme\n",
    "  * NOTE:  `python3` may have to be substituted for using `python` command for using a `venv`\n",
    "  * NOTE: there must not be any empty lines in import data\n",
    "  \n",
    "Labeled data in the `doccano` app will look similar to:\n",
    "\n",
    "![](../images/doccano_label.png)"
   ]
  },
  {
   "cell_type": "markdown",
   "metadata": {},
   "source": [
    "### Convert `doccano` exported data to training data format\n",
    "\n",
    "`doccano` exports as `json` with one input datum plus labels per line where:\n",
    "* `id` is the datum or corpus numerical id\n",
    "* `text` is the issue snippet or corpus\n",
    "* `annotations` are the labels and indices of each word/element in the single corpus - the `start_offset` and `end_offset` are used to find the words in the sentence.  This will get the data in the correct for training.\n",
    "\n",
    "**Read the data file and print one line**"
   ]
  },
  {
   "cell_type": "code",
   "execution_count": 5,
   "metadata": {
    "scrolled": false
   },
   "outputs": [
    {
     "name": "stdout",
     "output_type": "stream",
     "text": [
      "{'id': 34, 'text': \"This makes it harder to understand the behavior of the function tf.scatter_add in case indices is a matrix. Specifically, what is the difference between tf.scatter_add and tf.scatter_nd when indices is a matrix.  This will raise an error that only sequential or functional models can be saved model.save('custom_model.h5')\", 'annotations': [{'label': 4, 'start_offset': 0, 'end_offset': 4, 'user': 1}, {'label': 4, 'start_offset': 5, 'end_offset': 10, 'user': 1}, {'label': 4, 'start_offset': 11, 'end_offset': 13, 'user': 1}, {'label': 4, 'start_offset': 14, 'end_offset': 20, 'user': 1}, {'label': 4, 'start_offset': 21, 'end_offset': 23, 'user': 1}, {'label': 4, 'start_offset': 24, 'end_offset': 34, 'user': 1}, {'label': 4, 'start_offset': 35, 'end_offset': 38, 'user': 1}, {'label': 4, 'start_offset': 39, 'end_offset': 47, 'user': 1}, {'label': 4, 'start_offset': 48, 'end_offset': 50, 'user': 1}, {'label': 4, 'start_offset': 51, 'end_offset': 54, 'user': 1}, {'label': 4, 'start_offset': 55, 'end_offset': 63, 'user': 1}, {'label': 2, 'start_offset': 64, 'end_offset': 78, 'user': 1}, {'label': 4, 'start_offset': 79, 'end_offset': 81, 'user': 1}, {'label': 4, 'start_offset': 82, 'end_offset': 86, 'user': 1}, {'label': 4, 'start_offset': 87, 'end_offset': 94, 'user': 1}, {'label': 4, 'start_offset': 95, 'end_offset': 97, 'user': 1}, {'label': 4, 'start_offset': 98, 'end_offset': 99, 'user': 1}, {'label': 4, 'start_offset': 100, 'end_offset': 106, 'user': 1}, {'label': 4, 'start_offset': 108, 'end_offset': 120, 'user': 1}, {'label': 4, 'start_offset': 122, 'end_offset': 126, 'user': 1}, {'label': 4, 'start_offset': 127, 'end_offset': 129, 'user': 1}, {'label': 4, 'start_offset': 130, 'end_offset': 133, 'user': 1}, {'label': 4, 'start_offset': 134, 'end_offset': 144, 'user': 1}, {'label': 4, 'start_offset': 145, 'end_offset': 152, 'user': 1}, {'label': 2, 'start_offset': 153, 'end_offset': 167, 'user': 1}, {'label': 4, 'start_offset': 168, 'end_offset': 171, 'user': 1}, {'label': 2, 'start_offset': 172, 'end_offset': 186, 'user': 1}, {'label': 4, 'start_offset': 186, 'end_offset': 190, 'user': 1}, {'label': 4, 'start_offset': 191, 'end_offset': 198, 'user': 1}, {'label': 4, 'start_offset': 199, 'end_offset': 201, 'user': 1}, {'label': 4, 'start_offset': 202, 'end_offset': 203, 'user': 1}, {'label': 4, 'start_offset': 204, 'end_offset': 210, 'user': 1}, {'label': 4, 'start_offset': 213, 'end_offset': 217, 'user': 1}, {'label': 4, 'start_offset': 218, 'end_offset': 222, 'user': 1}, {'label': 4, 'start_offset': 223, 'end_offset': 228, 'user': 1}, {'label': 4, 'start_offset': 229, 'end_offset': 231, 'user': 1}, {'label': 4, 'start_offset': 232, 'end_offset': 237, 'user': 1}, {'label': 4, 'start_offset': 238, 'end_offset': 242, 'user': 1}, {'label': 4, 'start_offset': 243, 'end_offset': 247, 'user': 1}, {'label': 4, 'start_offset': 248, 'end_offset': 258, 'user': 1}, {'label': 4, 'start_offset': 259, 'end_offset': 261, 'user': 1}, {'label': 4, 'start_offset': 262, 'end_offset': 272, 'user': 1}, {'label': 4, 'start_offset': 273, 'end_offset': 279, 'user': 1}, {'label': 4, 'start_offset': 280, 'end_offset': 283, 'user': 1}, {'label': 4, 'start_offset': 284, 'end_offset': 286, 'user': 1}, {'label': 4, 'start_offset': 287, 'end_offset': 292, 'user': 1}, {'label': 2, 'start_offset': 293, 'end_offset': 322, 'user': 1}], 'meta': {}}\n"
     ]
    }
   ],
   "source": [
    "# Read export file\n",
    "with open('doccano_export.json', 'r') as f:\n",
    "    lines = f.readlines()\n",
    "\n",
    "print(json.loads(lines[1]))"
   ]
  },
  {
   "cell_type": "markdown",
   "metadata": {},
   "source": [
    "**Split out words and labels**"
   ]
  },
  {
   "cell_type": "code",
   "execution_count": 6,
   "metadata": {},
   "outputs": [],
   "source": [
    "# The numerical doccano label to actual label (B-I-O scheme)\n",
    "ix_to_label = {4: 'O', 3: 'I', 2: 'B'}\n",
    "    \n",
    "# train/test data\n",
    "data = []\n",
    "\n",
    "# Vocabulary\n",
    "vocab = set()\n",
    "    \n",
    "# Loop over each data point (a corpus of labeled text) to extract words\n",
    "for line in lines:\n",
    "    # An ordered dict will keep items in order for further manipulation\n",
    "    # so we initialize here\n",
    "    orddict = OrderedDict({})\n",
    "    # Lists to hold the words and labels\n",
    "    words = []\n",
    "    labels = []\n",
    "    # Convert line to json\n",
    "    injson = json.loads(line)\n",
    "    annots = injson['annotations']\n",
    "    text = injson['text']\n",
    "    \n",
    "    # Add each word annotation to OrderedDict\n",
    "    for ann in annots:\n",
    "        orddict[ann['start_offset']] = ann\n",
    "    \n",
    "    # Sort ordered dict because there's no guarantee reading json\n",
    "    # maintained order\n",
    "    orddict = sorted(orddict.items(), key=lambda x: x[1]['start_offset'])\n",
    "    \n",
    "    for item in orddict:\n",
    "        # the item is a tuple where second value is the actual value we want\n",
    "        ann = item[1]\n",
    "        # Subset text string\n",
    "        word = text[ann['start_offset']:(ann['end_offset'] + 1)].rstrip()\n",
    "        label = ix_to_label[ann['label']]\n",
    "        # Add to list for this datum/corpus\n",
    "        words.append(word)\n",
    "        labels.append(label)\n",
    "        vocab.add(word)\n",
    "    # Add to overall data containers\n",
    "    data.append((words, labels))"
   ]
  },
  {
   "cell_type": "code",
   "execution_count": 7,
   "metadata": {},
   "outputs": [
    {
     "name": "stdout",
     "output_type": "stream",
     "text": [
      "{'code', '1.0:', 'another', 'which', 'do_constant_folding=True', 'input', 'new', 'true,', 'work', 'more', 'operation.', '*', 'they', 'one', 'pointers', 'cases', 'We', 'torch.onnx,', 'have', 'ready', 'SaveableObject/Saver', 'all', 'would', 'allocated', 'can', 'python', 'error', 'Summation.', 'add', 'odd', 'torch.arange', 'DataLoader(...,', 'tensorflow', '(0.229 / 0.5)', '2048,', 'one.', 'guys', 'used', 'torch.functional.stft,', 'shapes)', 'ReduceAddCoalesced.', 'pytorch', 'When', 'it', '=', 'save', 'did', 'Or', 'nvtx', 'hereafter', 'print(tf.version.GIT_VERSION,', 'tf;', 'I', 'default', 'complex', 'works', 'type', 'slower', 'implementation', 'without', 'assigning', 'option', 'export', 'tf', 'themselves.', 'link', 'get', 'tf.sysconfig.get_link_flag', 'If', 'here', 'stride', 'JIT', 'sublist1,', 'issues', 'fails,', 'well.', 'tensorflow.serving)', 'One', '1.x', 'call', 'make', 'argmax(2).', 'not,', 'Specifically,', 'cudnn', 'grid_sample,', 'run_actual_test', 'In', 'functional', 'convert', 'serving', 'size', 'ranges', 'Not', 'sort', 'arbitrary', 'letters)', 'information', 'Hi,', 'support', 'normally', \"isn't.\", 'if', 'understand', 'guide', 'backward', 'thought', '64', 'channels,', 'two', 'possible', 'contant', 'arguments', 'PR', 'least', 'self.model output', 'maybe', 'anyway', 'derivative', 'Append', 'accept', 'run', \"won't\", 'with:', 'batch_size=None', 'run_debug_test', 'an', 'makes', 'Do', 'AutoTrackable.', 'enough.', 'Einstein', 'torch.functional l', 'implements', 'slow,', 'Broadcast', 'kernel', 'that', 'This', 'json/yaml', 'awesome', 'especially', 'False', 'everywhere', 'value', 'me', 'libtensorflow_framework', 'tensordot,', 'worked', 'reshapes', 'then', 'torch.onnx.export()\"', 'allocator', 'when', 'torch/nn/parallel/_functions.py', 'making', 'mms.', 'tensor.pin_memory()', 'pin_memory=True)', 'faster', 'bmm,', 'For', 'custom', 'only', 'yet.', 'i.e.', 'existing', 'any', 'even', 'with', 'rather', 'reason', 'print', '1.13.1', 'times', 'size.', 'list/dict', 'you', 'after.', 'translated', 'format', 'expanded/unfolded', 'what', 'It', 'dump', 'print(', 'match', 'CUDA', 'import', 'by', 'parameters', 'dig', 'tf.Module', 'change', \"torch.ops.map_rasterizer_utils.ends_with(key, '_cont')\", 'benchmarking', 'cudaHostAlloc(ptr,', 'users', 'Move', 'objects:', 'cases.', 'torch.jit.ScriptModule', 'but', 'uses', 'docs', 'converted', 'nn.Module.', 'key', 'feel', 'autobatching', 'grab', 'runing', '1:1', 'just', 'to', 'torchscript', 'ones:', 'because', 'since', 'batch_sampler=None)', 'gpu,', 'models', 'APIs', 'between', 'take', 'raise', 'To', 'dimensions', \"torch.device('cuda:1')\", 'TensorFlow', 'batching', 'SaveableObject,', 'handle', 'point', 'move', 'From', 'current', '1', '0.5', 'looking', 'profiling.', 'overridden', 'torch.backends.cudnn.benchmark', 'for', 'matrix.', 'Sagemaker,', \"Don't\", 'dictionary', 'scalar', 'addressing.', 'replace', 'issue', 'ONNX', 'this', 'dictionary.', 'behavior', '40', 'class.', 'API,', 'slow', 'onnx', 'ceiling:', 'over', 'length', 'copy', 'and', 'gets', 'apparently', 'ReduceAddCoalesced', '(tf.GIT_VERSION,', 'working', 'emit_nvtx', '(0.485 - 0.5)', '...,', 'device', 'could', 'number', 'nn.GConv2d()', 'implementations', 'be', 'op1,', '26', 'using', 'object', 'Support', 'or', 'FFT', 'padded', 'Consider', 'self.model(image_list)\"', 'There', 'adding', 'considerably', 'C++', 'self.scalar_dict', 'set', 'device.', 'computation', 'well', 'slower.', 'large', 'Now,', 'again?', 'tf.train.Saver.', \"emit_nvtx'\", 'assume', 'unified', 'difference', '[sublistout]).', 'lower', 'probably', 'called', 'einsum', 'encountering', 'things', 'output', 'collation)', 'to_yaml', 'string', 'disables', 'use', '~5e-5', 'outputs', 'reducing', '1.1.4,', 'advanced', 'convolutions', 'self.transform_input i', 'single', 'C++.', 'much', 'config', 'weights', 'tensors', 'context', 'int((end-start)/step)', 'harder', 'Conv1d', 'aligned,', \"it's\", '#19228 ,', 'sure', ' torch.stft', 'torch.unsqueeze(...)', 'indices', 'it.', 'that:', 'as', 'argument', 'record_shapes', 'followed', 'trying', 'compute', 'data', 'cuDevicePrimaryCtxGetState,', 'version', 'fails', 'doing', 'efficient', 'not', 'created', 'cudaHostAlloc', 'instead', '1024', 'forward.', 'wonder,', 'directly', '-c', 'layers', 'x_ch0', 'than', 'allocate', 'create', 'time', 'reference', '2.0:', 'based', 'As', 'generator=None', 'detaching', 'FCOS', 'after', 'means', 'dimension,', 'similar', 'something?', 'reduce_add_coalesced', 'FFT,', 'tells', 'exists.', 'necessary', 'tf.VERSION)', 'serialization', 'compatibility.', '2.x,', 'parameter', 'torch.einsum(op0,', '1.', \"don't k\", 'tried', 'groups', 'sense', 'before', 'input,', 'GPU', 'underlying', 'increase', 'Mutable', 'torch.bernoulli', 'Trackable._gather_saveables_for_checkpoint', 'A', 'of', 'some', 'BoxList.', 'well)', 'extra', 'other', 'at', 'documented', 'operators:', 'simple', 'come', 'mentioned', 'described', 'we', 'parallel', 'double', 'error,', 'tf.scatter_add', 'backwards', 'obtain', 'always', 'predictions', 'up,', 'should', 'pass', 'gradient', 'try', 'allow', 'computing', 'a', 'TF', 'torch.jit.script_method', 'why', 'case', 'enhances', 'Such', 'compatible', 'retain_graph=True', 'AutoTrackable', 'pinned', 'memory', 'size,', 'environment', 'torch/cuda/comm.py', 'Make', 'little', 'sum', 'sequential', 'instance)', 'was', 'auto', 'way', 'independent', 'setting', 'input.', 'device,', 'misunderstanding', 'function', '1024,', 'tf.train.Checkpoint', 'mode', 'onnx.', 'THCCachingHostAllocator', 'Please', 'our', 'however', 'model_from_yaml', 'into', 'True', 'need', 'floor)', 'frame_dictionary', 'about', 'After', 'were', 'shows', 'reshape', 'asking', 'type(%591', 'nn.Conv2d.', 'seems', 'Therefore,', 'program,', 'will', '0.', 'is', 'correctly,', 'But', 'the', 'allocation,', 'tf.keras.Model', 'model.', 'not.', 'also', 'stops', '2.', 'example', 'name', '%593)', 'tf.scatter_nd w', 'Lambdas...)', 'interpolate', 'tf.version.VERSION)', 'argmax', 'data.', 'https://www.tensorflow.org/beta/guide/checkpoints', 'reduce_add', 'missing', 'want', 'SummaryWriter', \"model.save('custom_model.h5')\", 'tf.train.Saver', 'are', 'True.', 'Pytorch', 'in', 'You', '64000,', 'find', 'sublist0,', 'significantly', \"I'd\", '__init__', 'asks', 'Seems', 'saved', 'torch.trace.graph()', \"I'm\", 'mismatch', 'both', 'intermediate', 'line', 'am', 'library', 'more:', 'My', 'convolution', 'very', 'add_scalar', 'know', 'model', 'random', 'core.', 'within', 'caching', 'do', 'cudaHostAllocDefault).', 'TF-Addons', 'The', 'on', 'from', 'group-equivariant', 'via', 'name.', 'before.', 'like', '20', 'regardless'}\n"
     ]
    }
   ],
   "source": [
    "print(vocab)"
   ]
  },
  {
   "cell_type": "markdown",
   "metadata": {},
   "source": [
    "**Split into train and test data**"
   ]
  },
  {
   "cell_type": "code",
   "execution_count": 8,
   "metadata": {},
   "outputs": [],
   "source": [
    "num_train = math.floor(len(data) * 0.9) # 80% to train\n",
    "training_data, test_data = data[:num_train], data[num_train:]"
   ]
  },
  {
   "cell_type": "markdown",
   "metadata": {},
   "source": [
    "## Train"
   ]
  },
  {
   "cell_type": "markdown",
   "metadata": {
    "slideshow": {
     "slide_type": "slide"
    }
   },
   "source": [
    "### Create the Network"
   ]
  },
  {
   "cell_type": "markdown",
   "metadata": {},
   "source": [
    "**Tags and hyperparameters**"
   ]
  },
  {
   "cell_type": "code",
   "execution_count": 9,
   "metadata": {
    "slideshow": {
     "slide_type": "slide"
    }
   },
   "outputs": [],
   "source": [
    "START_TAG = \"<START>\"\n",
    "STOP_TAG = \"<STOP>\"\n",
    "EMBEDDING_DIM = 5\n",
    "HIDDEN_DIM = 4\n",
    "MINIBATCH_SIZE = 2\n",
    "LEARNING_WEIGHT = 1e-2\n",
    "WEIGHT_DECAY = 1e-4"
   ]
  },
  {
   "cell_type": "code",
   "execution_count": 10,
   "metadata": {
    "slideshow": {
     "slide_type": "slide"
    }
   },
   "outputs": [],
   "source": [
    "class BiLSTM_CRF(nn.Module):\n",
    "\n",
    "    def __init__(self, vocab_size, tag_to_ix, embedding_dim, hidden_dim):\n",
    "        \"\"\"Initialize network.\"\"\"\n",
    "        super(BiLSTM_CRF, self).__init__()\n",
    "        self.embedding_dim = embedding_dim\n",
    "        self.hidden_dim = hidden_dim\n",
    "        self.vocab_size = vocab_size\n",
    "        self.tag_to_ix = tag_to_ix\n",
    "        self.tagset_size = len(tag_to_ix)\n",
    "\n",
    "        self.word_embeds = nn.Embedding(vocab_size, embedding_dim)\n",
    "        self.lstm = nn.LSTM(embedding_dim, hidden_dim // 2,\n",
    "                            num_layers=1, bidirectional=True)\n",
    "\n",
    "        # Maps the output of the LSTM into tag space.\n",
    "        self.hidden2tag = nn.Linear(hidden_dim, self.tagset_size)\n",
    "\n",
    "        # Matrix of transition parameters.  Entry i,j is the score of\n",
    "        # transitioning *to* i *from* j.\n",
    "        self.transitions = nn.Parameter(\n",
    "            torch.randn(self.tagset_size, self.tagset_size))\n",
    "\n",
    "        # These two statements enforce the constraint that we never transfer\n",
    "        # to the start tag and we never transfer from the stop tag\n",
    "        self.transitions.data[tag_to_ix[START_TAG], :] = -10000\n",
    "        self.transitions.data[:, tag_to_ix[STOP_TAG]] = -10000\n",
    "\n",
    "        self.hidden = self.init_hidden()"
   ]
  },
  {
   "cell_type": "code",
   "execution_count": 11,
   "metadata": {
    "slideshow": {
     "slide_type": "slide"
    }
   },
   "outputs": [],
   "source": [
    "%%add_to BiLSTM_CRF\n",
    "\n",
    "def init_hidden(self):\n",
    "    \"\"\"Two tensors to hold hidden states, one for each\n",
    "    LSTM direction with dimensions of (num_layers, \n",
    "    minibatch, hidden_dim)\"\"\"\n",
    "    # Minibatch small because small dataset below\n",
    "    return (torch.randn(2, 1, self.hidden_dim // 2),\n",
    "            torch.randn(2, 1, self.hidden_dim // 2))\n"
   ]
  },
  {
   "cell_type": "code",
   "execution_count": 12,
   "metadata": {
    "slideshow": {
     "slide_type": "slide"
    }
   },
   "outputs": [],
   "source": [
    "%%add_to BiLSTM_CRF\n",
    "\n",
    "\n",
    "def _forward_alg(self, feats):\n",
    "    \"\"\"Core magic of the Conditional Random Field.  \n",
    "    \n",
    "    Input:\n",
    "        The word embeddeding vectors for a sentence\n",
    "    \n",
    "    Since we’re using PyTorch to compute gradients for us, \n",
    "    we technically only need the forward part of the forward-backward \n",
    "    algorithm \"\"\"\n",
    "    # Do the forward algorithm to compute the partition function\n",
    "    init_alphas = torch.full((1, self.tagset_size), -10000.)\n",
    "    # START_TAG has all of the score.\n",
    "    init_alphas[0][self.tag_to_ix[START_TAG]] = 0.\n",
    "\n",
    "    # Wrap in a variable so that we will get automatic backprop\n",
    "    forward_var = init_alphas\n",
    "\n",
    "    # Iterate through the sentence\n",
    "    for feat in feats:\n",
    "        alphas_t = []  # The forward tensors at this timestep\n",
    "        for next_tag in range(self.tagset_size):\n",
    "            # broadcast the emission score: it is the same regardless of\n",
    "            # the previous tag\n",
    "            emit_score = feat[next_tag].view(\n",
    "                1, -1).expand(1, self.tagset_size)\n",
    "            # the ith entry of trans_score is the score of transitioning to\n",
    "            # next_tag from i\n",
    "            trans_score = self.transitions[next_tag].view(1, -1)\n",
    "            # The ith entry of next_tag_var is the value for the\n",
    "            # edge (i -> next_tag) before we do log-sum-exp\n",
    "            next_tag_var = forward_var + trans_score + emit_score\n",
    "            # The forward variable for this tag is log-sum-exp of all the\n",
    "            # scores.\n",
    "            alphas_t.append(log_sum_exp(next_tag_var).view(1))\n",
    "        forward_var = torch.cat(alphas_t).view(1, -1)\n",
    "    terminal_var = forward_var + self.transitions[self.tag_to_ix[STOP_TAG]]\n",
    "    alpha = log_sum_exp(terminal_var)\n",
    "    return alpha"
   ]
  },
  {
   "cell_type": "code",
   "execution_count": 13,
   "metadata": {
    "slideshow": {
     "slide_type": "slide"
    }
   },
   "outputs": [],
   "source": [
    "%%add_to BiLSTM_CRF\n",
    "\n",
    "def _get_lstm_features(self, sentence):\n",
    "    \"\"\"Compute output vector of BLSTM - used in \n",
    "    the forward pass of network\"\"\"\n",
    "    self.hidden = self.init_hidden()\n",
    "    embeds = self.word_embeds(sentence).view(len(sentence), 1, -1)\n",
    "    lstm_out, self.hidden = self.lstm(embeds, self.hidden)\n",
    "    lstm_out = lstm_out.view(len(sentence), self.hidden_dim)\n",
    "    lstm_feats = self.hidden2tag(lstm_out)\n",
    "    return lstm_feats"
   ]
  },
  {
   "cell_type": "code",
   "execution_count": 14,
   "metadata": {
    "slideshow": {
     "slide_type": "slide"
    }
   },
   "outputs": [],
   "source": [
    "%%add_to BiLSTM_CRF\n",
    "\n",
    "def _score_sentence(self, feats, tags):\n",
    "    \"\"\"Gives the score of a provided tag sequence\"\"\"\n",
    "    # Gives the score of a provided tag sequence\n",
    "    score = torch.zeros(1)\n",
    "    tags = torch.cat([torch.tensor([self.tag_to_ix[START_TAG]], dtype=torch.long), tags])\n",
    "    for i, feat in enumerate(feats):\n",
    "        score = score + \\\n",
    "            self.transitions[tags[i + 1], tags[i]] + feat[tags[i + 1]]\n",
    "    score = score + self.transitions[self.tag_to_ix[STOP_TAG], tags[-1]]\n",
    "    return score"
   ]
  },
  {
   "cell_type": "code",
   "execution_count": 15,
   "metadata": {
    "slideshow": {
     "slide_type": "slide"
    }
   },
   "outputs": [],
   "source": [
    "%%add_to BiLSTM_CRF\n",
    "\n",
    "def _viterbi_decode(self, feats):\n",
    "    \"\"\"Implements Viterbi algorithm for finding most likely sequence of labels.\n",
    "    Used in the forward pass of the network.\n",
    "\n",
    "    We take the maximum over the previous states as opposed to the sum. \n",
    "    Input:\n",
    "        loglikelihoods: torch tensor.\n",
    "    Output:\n",
    "        tuple. The first entry is the loglikelihood of this sequence. The second is \n",
    "        the most likely sequence of labels. \n",
    "    \"\"\"\n",
    "    backpointers = []\n",
    "\n",
    "    # Initialize the viterbi variables in log space\n",
    "    init_vvars = torch.full((1, self.tagset_size), -10000.)\n",
    "    init_vvars[0][self.tag_to_ix[START_TAG]] = 0\n",
    "\n",
    "    # forward_var at step i holds the viterbi variables for step i-1\n",
    "    forward_var = init_vvars\n",
    "    for feat in feats:\n",
    "        bptrs_t = []  # holds the backpointers for this step\n",
    "        viterbivars_t = []  # holds the viterbi variables for this step\n",
    "\n",
    "        for next_tag in range(self.tagset_size):\n",
    "            # next_tag_var[i] holds the viterbi variable for tag i at the\n",
    "            # previous step, plus the score of transitioning\n",
    "            # from tag i to next_tag.\n",
    "            # We don't include the emission scores here because the max\n",
    "            # does not depend on them (we add them in below)\n",
    "            next_tag_var = forward_var + self.transitions[next_tag]\n",
    "            best_tag_id = argmax(next_tag_var)\n",
    "            bptrs_t.append(best_tag_id)\n",
    "            viterbivars_t.append(next_tag_var[0][best_tag_id].view(1))\n",
    "        # Now add in the emission scores, and assign forward_var to the set\n",
    "        # of viterbi variables we just computed\n",
    "        forward_var = (torch.cat(viterbivars_t) + feat).view(1, -1)\n",
    "        backpointers.append(bptrs_t)\n",
    "\n",
    "    # Transition to STOP_TAG\n",
    "    terminal_var = forward_var + self.transitions[self.tag_to_ix[STOP_TAG]]\n",
    "    best_tag_id = argmax(terminal_var)\n",
    "    path_score = terminal_var[0][best_tag_id]\n",
    "\n",
    "    # Follow the back pointers to decode the best path.\n",
    "    best_path = [best_tag_id]\n",
    "    for bptrs_t in reversed(backpointers):\n",
    "        best_tag_id = bptrs_t[best_tag_id]\n",
    "        best_path.append(best_tag_id)\n",
    "    # Pop off the start tag (we dont want to return that to the caller)\n",
    "    start = best_path.pop()\n",
    "    assert start == self.tag_to_ix[START_TAG]  # Sanity check\n",
    "    best_path.reverse()\n",
    "    return path_score, best_path"
   ]
  },
  {
   "cell_type": "code",
   "execution_count": 16,
   "metadata": {
    "slideshow": {
     "slide_type": "slide"
    }
   },
   "outputs": [],
   "source": [
    "%%add_to BiLSTM_CRF\n",
    "\n",
    "def neg_log_likelihood(self, sentence, tags):\n",
    "    \"\"\"Calculate the negative log likelihood given a sequence and labels\"\"\"\n",
    "    feats = self._get_lstm_features(sentence)\n",
    "    forward_score = self._forward_alg(feats)\n",
    "    gold_score = self._score_sentence(feats, tags)\n",
    "    return forward_score - gold_score"
   ]
  },
  {
   "cell_type": "code",
   "execution_count": 17,
   "metadata": {
    "slideshow": {
     "slide_type": "slide"
    }
   },
   "outputs": [],
   "source": [
    "%%add_to BiLSTM_CRF\n",
    "\n",
    "def forward(self, sentence):\n",
    "    \"\"\"The forward pass function for training the network\"\"\"\n",
    "    # Get the emission scores (output layer) from the \n",
    "    # BiLSTM \n",
    "    lstm_feats = self._get_lstm_features(sentence)\n",
    "\n",
    "    # Find the best path, given the features.\n",
    "    score, tag_seq = self._viterbi_decode(lstm_feats)\n",
    "    return score, tag_seq"
   ]
  },
  {
   "cell_type": "code",
   "execution_count": 18,
   "metadata": {},
   "outputs": [],
   "source": [
    "def remove_punct(text):\n",
    "    \"\"\"Remove punctuation from a piece of text\"\"\"\n",
    "    punct = list(\".,()-\")\n",
    "    for p in punct:\n",
    "        text = text.replace(p, '')\n",
    "    return text\n",
    "    \n",
    "text = remove_punct(text)"
   ]
  },
  {
   "cell_type": "code",
   "execution_count": 19,
   "metadata": {},
   "outputs": [],
   "source": [
    "# Create a lookup dict for all possible words and record their index\n",
    "word_to_ix = {k: v for (k, v) in zip(vocab, range(len(vocab)))}\n",
    "tag_to_ix = {\"B\": 0, \"I\": 1, \"O\": 2, START_TAG: 3, STOP_TAG: 4}\n",
    "ix_to_tag = {0: \"B\", 1: \"I\", 2: \"O\"}"
   ]
  },
  {
   "cell_type": "markdown",
   "metadata": {},
   "source": [
    "**Initialize model and optimizer for training**"
   ]
  },
  {
   "cell_type": "code",
   "execution_count": 20,
   "metadata": {
    "slideshow": {
     "slide_type": "slide"
    }
   },
   "outputs": [],
   "source": [
    "model = BiLSTM_CRF(len(word_to_ix), tag_to_ix, EMBEDDING_DIM, HIDDEN_DIM)\n",
    "optimizer = optim.SGD(model.parameters(), lr=LEARNING_WEIGHT, weight_decay=WEIGHT_DECAY)"
   ]
  },
  {
   "cell_type": "markdown",
   "metadata": {},
   "source": [
    "**Important Note**:  `with torch.no_grad()` is used so that gradients are not propagated which is important for when we are running predictions and scoring."
   ]
  },
  {
   "cell_type": "code",
   "execution_count": 21,
   "metadata": {
    "slideshow": {
     "slide_type": "slide"
    }
   },
   "outputs": [
    {
     "name": "stdout",
     "output_type": "stream",
     "text": [
      "Prediction:    ['O', 'B', 'O', 'B', 'O', 'B', 'O', 'B', 'O', 'B', 'O', 'B', 'O', 'B', 'O', 'B', 'O', 'B', 'O', 'B', 'O', 'B', 'O', 'B', 'O', 'B', 'O', 'B', 'O', 'B', 'I']\n",
      "Ground truth:  ['O', 'O', 'O', 'O', 'O', 'O', 'O', 'O', 'O', 'O', 'O', 'O', 'O', 'B', 'I', 'I', 'I', 'I', 'I', 'I', 'O', 'O', 'O', 'O', 'O', 'B', 'I', 'I', 'I', 'I', 'I']\n",
      "['You', 'can', 'also', 'obtain', 'the', 'TensorFlow', 'version', 'with:', '1.', 'TF', '1.0:', 'python', '-c', 'import', 'tensorflow', 'as', 'tf;', 'print(', '(tf.GIT_VERSION,', 'tf.VERSION)', '2.', 'TF', '2.0:', 'python', '-c', 'import', 'tensorflow', 'as', 'tf;', 'print(tf.version.GIT_VERSION,', 'tf.version.VERSION)']\n"
     ]
    }
   ],
   "source": [
    "# Check predictions before training\n",
    "with torch.no_grad():\n",
    "    precheck_sent = prepare_sequence(training_data[0][0], word_to_ix)\n",
    "    pred =  model(precheck_sent)[1]\n",
    "    print('Prediction:   ', [ix_to_tag[idx] for idx in pred])\n",
    "    print('Ground truth: ', training_data[0][1])\n",
    "    print(training_data[0][0])"
   ]
  },
  {
   "cell_type": "markdown",
   "metadata": {},
   "source": [
    "### Train model!\n",
    "\n",
    "IMPORTANT NOTE:  If at workshop, please keep the number of epochs below 1000 to save on the shared GPU usage."
   ]
  },
  {
   "cell_type": "code",
   "execution_count": 22,
   "metadata": {
    "scrolled": false,
    "slideshow": {
     "slide_type": "slide"
    }
   },
   "outputs": [
    {
     "name": "stdout",
     "output_type": "stream",
     "text": [
      "Epoch: 50 Loss: 1.9675429865973337\n",
      "Epoch: 100 Loss: 0.9972026897839138\n",
      "Epoch: 150 Loss: 0.6666147451400757\n",
      "Epoch: 200 Loss: 0.5004997644083841\n",
      "Epoch: 250 Loss: 0.4005814177104405\n",
      "Epoch: 300 Loss: 0.33389218564260575\n",
      "CPU times: user 36min 30s, sys: 1h 13min 15s, total: 1h 49min 46s\n",
      "Wall time: 14min 57s\n"
     ]
    }
   ],
   "source": [
    "%%time\n",
    "# Make sure prepare_sequence from earlier in the LSTM section is loaded\n",
    "# again, normally you would do more than 300 epochs, but we have\n",
    "# toy data\n",
    "\n",
    "losses = []\n",
    "for epoch in range(300):  \n",
    "    for sentence, tags in training_data:\n",
    "        # Step 1. Remember that Pytorch accumulates gradients.\n",
    "        # We need to clear them out before each instance of LSTM\n",
    "        model.zero_grad()\n",
    "\n",
    "        # Step 2. Get our inputs ready for the network, that is,\n",
    "        # turn them into Tensors of word indices.\n",
    "        sentence_in = prepare_sequence(sentence, word_to_ix)\n",
    "        targets = torch.tensor([tag_to_ix[t] for t in tags], dtype=torch.long)\n",
    "\n",
    "        # Step 3. A lot happens.  Run our forward pass to get features from BLSTM,\n",
    "        # run the CRF and get the negative log likelihoods and find the best \n",
    "        # \"path\" through sentence with the tags using the viterbi algorithm \n",
    "        # (also part of forward pass).\n",
    "        # BTW our dynamic computational graph is created with the forward pass\n",
    "        # Returns the forward score - ground truth score (our loss measure)\n",
    "        loss = model.neg_log_likelihood(sentence_in, targets)\n",
    "        losses.append(loss.item())\n",
    "\n",
    "\n",
    "        # Step 4. Compute the loss, gradients (backprop), and update the \n",
    "        # parameters by calling optimizer.step() - optimizer here is \n",
    "        # SGD for our CRF\n",
    "        loss.backward()\n",
    "        optimizer.step()\n",
    "\n",
    "    if (epoch+1) % 50 == 0:\n",
    "        print(\"Epoch: {} Loss: {}\".format(epoch+1, np.mean(losses)))"
   ]
  },
  {
   "cell_type": "markdown",
   "metadata": {},
   "source": [
    "**EXERCISE**:  Change the optimization algorithm and retrain.  E.g. try the Adam optimizer.  More on optimizers <a href=\"https://blog.algorithmia.com/introduction-to-optimizers/\" target=\"_blank\">here</a>."
   ]
  },
  {
   "cell_type": "markdown",
   "metadata": {},
   "source": [
    "**Sanity check**"
   ]
  },
  {
   "cell_type": "markdown",
   "metadata": {},
   "source": [
    "**EXERCISE**:  Fill in the missing \"blanks\" (`___`) with the correct code in a new cell.\n",
    "\n",
    "```python\n",
    "# Sanity check for predictions after training\n",
    "# No need to accumulate gradients because this is a validation\n",
    "with torch.___():\n",
    "    precheck_sent = prepare_sequence(training_data[1][0], word_to_ix)\n",
    "    pred =  model(precheck_sent)[1]\n",
    "    print('Prediction:   ', [ix_to_tag[idx] for idx in pred])\n",
    "    print('Ground truth: ', training_data[1][1])\n",
    "    print(training_data[1][0])\n",
    "# We got it!\n",
    "```"
   ]
  },
  {
   "cell_type": "code",
   "execution_count": null,
   "metadata": {},
   "outputs": [],
   "source": []
  },
  {
   "cell_type": "markdown",
   "metadata": {
    "slideshow": {
     "slide_type": "slide"
    }
   },
   "source": [
    "## Evaluate\n",
    "\n",
    "Let's test our model on an unseen sentence.\n",
    "\n"
   ]
  },
  {
   "cell_type": "code",
   "execution_count": 24,
   "metadata": {
    "slideshow": {
     "slide_type": "slide"
    }
   },
   "outputs": [
    {
     "name": "stdout",
     "output_type": "stream",
     "text": [
      "Prediction:    ['O', 'O', 'O', 'O', 'O', 'O', 'O', 'O', 'O', 'O', 'O', 'O', 'O', 'O', 'O', 'O', 'B', 'O', 'O', 'O', 'B', 'B', 'O', 'O', 'O', 'O', 'O', 'B', 'O', 'O', 'O', 'O', 'O', 'O', 'O', 'O', 'O', 'O', 'O', 'O', 'O', 'O', 'I', 'B', 'O', 'O', 'O', 'O', 'O', 'O', 'O', 'O', 'O', 'O', 'O', 'O', 'O', 'O', 'O', 'B', 'O', 'O', 'B', 'B', 'O', 'O', 'O', 'O']\n",
      "Ground truth:  ['O', 'O', 'O', 'O', 'B', 'O', 'O', 'B', 'O', 'O', 'O', 'O', 'O', 'O', 'O', 'O', 'B', 'I', 'I', 'O', 'O', 'O', 'O', 'O', 'O', 'O', 'O', 'O', 'O', 'O', 'O', 'O', 'O', 'O', 'O', 'O', 'O', 'O', 'O', 'O', 'O', 'O', 'O', 'O', 'O', 'O', 'O', 'O', 'O', 'O', 'O', 'O', 'O', 'O', 'O', 'O', 'O', 'O', 'O', 'B', 'O', 'O', 'O', 'O', 'O', 'O', 'O', 'O']\n",
      "Text:  ['A', 'little', 'dig', 'into', 'cudaHostAlloc', 'and', 'our', 'THCCachingHostAllocator', 'tells', 'me', 'that:', 'We', 'allocate', 'pinned', 'memory', 'with', 'cudaHostAlloc(ptr,', 'size,', 'cudaHostAllocDefault).', 'Such', 'allocated', 'pointers', 'can', 'be', 'directly', 'used', 'by', 'any', 'device,', 'regardless', 'of', 'the', 'current', 'device', 'at', 'the', 'time', 'of', 'allocation,', 'since', 'we', 'assume', 'unified', 'addressing.', 'Therefore,', 'I', 'wonder,', 'instead', 'of', 'always', 'asking', 'for', 'a', 'context', 'on', 'the', 'current', 'device,', 'if', 'tensor.pin_memory()', 'should', 'just', 'grab', 'any', 'CUDA', 'context', 'if', 'exists.']\n"
     ]
    }
   ],
   "source": [
    "test_datum = test_data[2][0]\n",
    "test_text = test_data[2][1]\n",
    "\n",
    "with torch.no_grad():\n",
    "    precheck_sent = prepare_sequence(test_datum, word_to_ix)\n",
    "    pred =  model(precheck_sent)[1]\n",
    "    print('Prediction:   ', [ix_to_tag[idx] for idx in pred])\n",
    "    print('Ground truth: ', test_text)\n",
    "    print('Text: ', test_datum)"
   ]
  },
  {
   "cell_type": "markdown",
   "metadata": {},
   "source": [
    "**EXERCISE**:  Calculate the average accuracy for the prediction above on all test data."
   ]
  },
  {
   "cell_type": "code",
   "execution_count": null,
   "metadata": {},
   "outputs": [],
   "source": []
  },
  {
   "cell_type": "markdown",
   "metadata": {},
   "source": [
    "**EXERCISE**:   Select and print only the code snippets from above for the prediction as well as groud truth (actual labels) for a better picture of the predictions."
   ]
  },
  {
   "cell_type": "code",
   "execution_count": null,
   "metadata": {},
   "outputs": [],
   "source": []
  },
  {
   "cell_type": "markdown",
   "metadata": {},
   "source": [
    "If the result wasn't very good, try more epochs to create a new trained model."
   ]
  },
  {
   "cell_type": "markdown",
   "metadata": {
    "slideshow": {
     "slide_type": "slide"
    }
   },
   "source": [
    "## References\n",
    "\n",
    "1. [Understanding Bidirectional RNN in PyTorch](https://towardsdatascience.com/understanding-bidirectional-rnn-in-pytorch-5bd25a5dd66)\n",
    "2. [Conditional Random Field Tutorial in PyTorch](https://towardsdatascience.com/conditional-random-field-tutorial-in-pytorch-ca0d04499463)\n",
    "3. [Character-level neural network for biomedical named entity recognition](https://www.sciencedirect.com/science/article/pii/S1532046417300977)\n",
    "4.  [Other named entity tag schemes](https://lingpipe-blog.com/2009/10/14/coding-chunkers-as-taggers-io-bio-bmewo-and-bmewo/)"
   ]
  },
  {
   "cell_type": "code",
   "execution_count": null,
   "metadata": {},
   "outputs": [],
   "source": []
  },
  {
   "cell_type": "markdown",
   "metadata": {
    "slideshow": {
     "slide_type": "slide"
    }
   },
   "source": [
    "**EXERCISE (Advanced)**:  collect (copora), label (with `doccano` or favorite tool) your own dataset and train and test (with code above)"
   ]
  },
  {
   "cell_type": "code",
   "execution_count": null,
   "metadata": {},
   "outputs": [],
   "source": []
  },
  {
   "cell_type": "code",
   "execution_count": null,
   "metadata": {},
   "outputs": [],
   "source": []
  },
  {
   "cell_type": "code",
   "execution_count": null,
   "metadata": {},
   "outputs": [],
   "source": []
  },
  {
   "cell_type": "code",
   "execution_count": null,
   "metadata": {},
   "outputs": [],
   "source": []
  },
  {
   "cell_type": "code",
   "execution_count": null,
   "metadata": {},
   "outputs": [],
   "source": []
  },
  {
   "cell_type": "code",
   "execution_count": null,
   "metadata": {},
   "outputs": [],
   "source": []
  },
  {
   "cell_type": "code",
   "execution_count": null,
   "metadata": {},
   "outputs": [],
   "source": []
  },
  {
   "cell_type": "code",
   "execution_count": null,
   "metadata": {},
   "outputs": [],
   "source": []
  },
  {
   "cell_type": "code",
   "execution_count": null,
   "metadata": {},
   "outputs": [],
   "source": []
  },
  {
   "cell_type": "code",
   "execution_count": null,
   "metadata": {},
   "outputs": [],
   "source": []
  },
  {
   "cell_type": "code",
   "execution_count": null,
   "metadata": {},
   "outputs": [],
   "source": []
  },
  {
   "cell_type": "code",
   "execution_count": null,
   "metadata": {},
   "outputs": [],
   "source": []
  },
  {
   "cell_type": "code",
   "execution_count": null,
   "metadata": {},
   "outputs": [],
   "source": []
  },
  {
   "cell_type": "code",
   "execution_count": null,
   "metadata": {},
   "outputs": [],
   "source": []
  },
  {
   "cell_type": "code",
   "execution_count": null,
   "metadata": {},
   "outputs": [],
   "source": []
  },
  {
   "cell_type": "code",
   "execution_count": null,
   "metadata": {},
   "outputs": [],
   "source": []
  },
  {
   "cell_type": "markdown",
   "metadata": {},
   "source": [
    "## Answers"
   ]
  },
  {
   "cell_type": "markdown",
   "metadata": {},
   "source": [
    "Fill in the missing \"blanks\" (`___`) with the correct code in a new cell.\n",
    "\n",
    "```python\n",
    " def argmax(vec):\n",
    "    \"\"\"Return the argmax as a python int\"\"\"\n",
    "    _, idx = torch.max(vec, 1)\n",
    "    return idx.item()\n",
    "\n",
    "\n",
    "def prepare_sequence(seq, to_ix):\n",
    "    \"\"\"\n",
    "    Input:\n",
    "        seq - the sequence (array)\n",
    "        to_ix - the indices to which seqence values are converted (dict)\n",
    "        \n",
    "    Output:\n",
    "        Numerical tensor\n",
    "        \"\"\"\n",
    "    idxs = [to_ix[w] for w in seq]\n",
    "    return torch.tensor(idxs, dtype=torch.long)\n",
    "\n",
    "def log_sum_exp(vec):\n",
    "    \"\"\"Compute log sum exp in a numerically stable way for \n",
    "    the forward algorithm\"\"\"\n",
    "    max_score = vec[0, argmax(vec)]\n",
    "    max_score_broadcast = max_score.view(1, -1).expand(1, vec.size()[1])\n",
    "    return max_score + \\\n",
    "        torch.log(torch.sum(torch.exp(vec - max_score_broadcast)))\n",
    "```"
   ]
  },
  {
   "cell_type": "markdown",
   "metadata": {},
   "source": [
    "Change the optimization algorithm and retrain\n",
    "\n",
    "`optimizer = optim.Adam(model.parameters(), lr=LEARNING_WEIGHT)`"
   ]
  },
  {
   "cell_type": "markdown",
   "metadata": {},
   "source": [
    "Fill in the missing \"blanks\" (`___`) with the correct code in a new cell.\n",
    "\n",
    "```python\n",
    "# Sanity check for predictions after training\n",
    "# No need to accumulate gradients because this is a validation\n",
    "with torch.no_grad():\n",
    "    precheck_sent = prepare_sequence(training_data[1][0], word_to_ix)\n",
    "    pred =  model(precheck_sent)[1]\n",
    "    print('Prediction:   ', [ix_to_tag[idx] for idx in pred])\n",
    "    print('Ground truth: ', training_data[1][1])\n",
    "    print(training_data[1][0])\n",
    "# We got it!\n",
    "```"
   ]
  },
  {
   "cell_type": "markdown",
   "metadata": {},
   "source": [
    "Calculate the average accuracy for the prediction above on all test data.\n",
    "\n",
    "```python\n",
    "scores = []\n",
    "for i in range(len(test_data)):\n",
    "    test_datum = test_data[i][0]\n",
    "    test_tags = test_data[i][1]\n",
    "\n",
    "    with torch.no_grad():\n",
    "        precheck_sent = prepare_sequence(test_datum, word_to_ix)\n",
    "        pred =  model(precheck_sent)[1]\n",
    "        pred_tags = [ix_to_tag[idx] for idx in pred]\n",
    "        print('Prediction:   ', pred_tags)\n",
    "        print('Ground truth: ', test_tags)\n",
    "        print('Text: ', test_datum)\n",
    "        actual_bin = [1 if (x is 'B' or x is 'I') else 0 for x in test_tags]\n",
    "        pred_bin = [1 if (x == 'B' or x == 'I') else 0 for x in pred_tags]\n",
    "        diff = np.array([a - b for a, b in zip(actual_bin, pred_bin)])\n",
    "        accuracy_score = (len(pred) - sum(abs(diff))) / len(pred) * 100\n",
    "        print('Score: ', accuracy_score)\n",
    "        scores.append(accuracy_score)\n",
    "\n",
    "print('\\nAverage score: ', np.mean(scores))\n",
    "```"
   ]
  },
  {
   "cell_type": "code",
   "execution_count": null,
   "metadata": {},
   "outputs": [],
   "source": []
  }
 ],
 "metadata": {
  "kernelspec": {
   "display_name": "Python 3.6 - PyTorch 1.1",
   "language": "python",
   "name": "pytorch_preview"
  },
  "language_info": {
   "codemirror_mode": {
    "name": "ipython",
    "version": 3
   },
   "file_extension": ".py",
   "mimetype": "text/x-python",
   "name": "python",
   "nbconvert_exporter": "python",
   "pygments_lexer": "ipython3",
   "version": "3.6.8"
  },
  "nav_menu": {},
  "toc": {
   "navigate_menu": true,
   "number_sections": true,
   "sideBar": true,
   "threshold": 6,
   "toc_cell": false,
   "toc_section_display": "block",
   "toc_window_display": false
  }
 },
 "nbformat": 4,
 "nbformat_minor": 2
}
