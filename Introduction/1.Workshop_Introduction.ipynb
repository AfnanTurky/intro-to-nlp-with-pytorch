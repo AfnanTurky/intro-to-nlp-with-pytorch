{
 "cells": [
  {
   "cell_type": "markdown",
   "metadata": {
    "slideshow": {
     "slide_type": "slide"
    }
   },
   "source": [
    "\n",
    "<img src=\"https://raw.githubusercontent.com/PythonWorkshop/intro-to-nlp-with-pytorch/master/images/logo.png\" align=\"left\" width=\"25%\">\n",
    "\n",
    "# Introduction to Natural Language Processing with PyTorch Workshop"
   ]
  },
  {
   "cell_type": "code",
   "execution_count": null,
   "metadata": {},
   "outputs": [],
   "source": []
  },
  {
   "cell_type": "markdown",
   "metadata": {
    "slideshow": {
     "slide_type": "slide"
    }
   },
   "source": [
    "## Who we are\n",
    "\n",
    "Speakers:\n",
    "* Priya Ananthasankar (Microsoft)\n",
    "* David Clark (Data Science Consultant)\n",
    "* Kendall Chuang (Carta)\n",
    "* Micheleen Harris (Microsoft)\n",
    "\n",
    "Volunteers:\n",
    "* Seth Mottaghinejad (Microsoft)"
   ]
  },
  {
   "cell_type": "markdown",
   "metadata": {
    "slideshow": {
     "slide_type": "subslide"
    }
   },
   "source": [
    "<br>\n",
    "<img src=\"https://avatars1.githubusercontent.com/u/10415876?s=460&v=4\" width=\"10%\" align=\"left\">\n",
    "\n",
    "<img src=\"https://media.licdn.com/dms/image/C5603AQGI3CoqK9Uv7Q/profile-displayphoto-shrink_800_800/0?e=1566432000&v=beta&t=xblgyvWaoE8m0Y9rmmvi_NHe5DnLS4falHHdn6LMPjQ\" width=\"10%\" align=\"left\">\n",
    "<img src=\"https://media.licdn.com/dms/image/C5603AQERz2htTAuRsA/profile-displayphoto-shrink_200_200/0?e=1566432000&v=beta&t=HZl9Ch89HqFIMaEKpWAHs5MnwCe_a6-D8mHETxsAbAQ\" width=\"10%\" align=\"left\">\n",
    "<img src=\"https://media.licdn.com/dms/image/C5603AQEnxU_ugXgzAw/profile-displayphoto-shrink_200_200/0?e=1566432000&v=beta&t=Rci1Pbzxu8iw4srhjFt6PvpE505mlufejyvLuRG0gxg\" width=\"10%\" align=\"left\">\n",
    "<img src=\"https://prod-discovery.edx-cdn.org/media/people/profile_images/8712a946-8e19-4bf0-9182-fe27b373d893-2ccc1a2310a0.jpg\" width=\"10%\" align=\"left\">"
   ]
  },
  {
   "cell_type": "markdown",
   "metadata": {
    "slideshow": {
     "slide_type": "slide"
    }
   },
   "source": [
    "## Questions for you\n",
    "\n",
    "* Machine Learning experience?\n",
    "* Deep Learning experience?\n",
    "* PyTorch experience?\n",
    "* NLP experience?"
   ]
  },
  {
   "cell_type": "markdown",
   "metadata": {
    "slideshow": {
     "slide_type": "slide"
    }
   },
   "source": [
    "## Why sequences are important\n",
    "\n",
    "<img src=\"../images/why_sequences.png\" alt=\"why sequences\" width=\"75%\" align=\"center\">"
   ]
  },
  {
   "cell_type": "markdown",
   "metadata": {
    "slideshow": {
     "slide_type": "slide"
    }
   },
   "source": [
    "## What is a Recurrent Neural Network (RNN)\n",
    "\n",
    "\n",
    "<img src=\"https://raw.githubusercontent.com/PythonWorkshop/intro-to-nlp-with-pytorch/master/images/rnn_inner_workings.png\" alt=\"inside rnn\" width=\"50%\" align=\"left\">\n"
   ]
  },
  {
   "cell_type": "markdown",
   "metadata": {
    "slideshow": {
     "slide_type": "notes"
    }
   },
   "source": [
    "* The neural network is simply a tanh activation function\n",
    "* Shown unraveled is useful\n",
    "* Inputs outputs (hidden, x, and not showing some output)"
   ]
  },
  {
   "cell_type": "markdown",
   "metadata": {
    "slideshow": {
     "slide_type": "subslide"
    }
   },
   "source": [
    "* x = input embedding for a word (vector)\n",
    "* h = hidden (or activation) state (vector)\n",
    "* tanh = hyperbolic tangent activation function/layer\n",
    "* y = output tag (not shown because we can have different schemes)\n",
    "\n",
    "**A Long Short-Term Memory (LSTM) network is a subclass of RNNs**"
   ]
  },
  {
   "cell_type": "markdown",
   "metadata": {
    "slideshow": {
     "slide_type": "slide"
    }
   },
   "source": [
    "## What types are RNNs are there?\n",
    "\n",
    "* Many-to-many - e.g. find names with named entity recognition (NER)\n",
    "* Many-to-one - e.g. sentiment analysis\n",
    "* One-to-many - e.g. music generation\n",
    "* Another many-to-many - e.g. machine translation\n",
    "* One-to-one"
   ]
  },
  {
   "cell_type": "markdown",
   "metadata": {
    "slideshow": {
     "slide_type": "slide"
    }
   },
   "source": [
    "<img src=\"../images/diff_types_rnns.png\" alt=\"why sequences\" width=\"75%\" align=\"center\">"
   ]
  },
  {
   "cell_type": "markdown",
   "metadata": {
    "slideshow": {
     "slide_type": "slide"
    }
   },
   "source": [
    "## References\n",
    "1.  [RNN video \"RNN1. Why sequence models?\"](https://www.youtube.com/watch?v=5Vl-bK7tfD8&list=PLBAGcD3siRDittPwQDGIIAWkjz-RucAc7&index=1) by Andrew Ng\n",
    "2.  [Getting Started with PyTorch Part 1: Understanding how Automatic Differentiation works](https://towardsdatascience.com/getting-started-with-pytorch-part-1-understanding-how-automatic-differentiation-works-5008282073ec)\n",
    "3.  [Introduction to PyTorch fro pytorch.org](https://pytorch.org/tutorials/beginner/nlp/pytorch_tutorial.html#sphx-glr-beginner-nlp-pytorch-tutorial-py)\n",
    "4.  [Stanford course on NLP taught by Christopher Manning](https://web.stanford.edu/class/cs224n/)\n"
   ]
  },
  {
   "cell_type": "code",
   "execution_count": null,
   "metadata": {},
   "outputs": [],
   "source": []
  }
 ],
 "metadata": {
  "celltoolbar": "Slideshow",
  "kernelspec": {
   "display_name": "Python 3.6 (sys)",
   "language": "python",
   "name": "py36sys"
  },
  "language_info": {
   "codemirror_mode": {
    "name": "ipython",
    "version": 3
   },
   "file_extension": ".py",
   "mimetype": "text/x-python",
   "name": "python",
   "nbconvert_exporter": "python",
   "pygments_lexer": "ipython3",
   "version": "3.6.6"
  },
  "nav_menu": {},
  "toc": {
   "navigate_menu": true,
   "number_sections": true,
   "sideBar": true,
   "threshold": 6,
   "toc_cell": false,
   "toc_section_display": "block",
   "toc_window_display": false
  }
 },
 "nbformat": 4,
 "nbformat_minor": 2
}
