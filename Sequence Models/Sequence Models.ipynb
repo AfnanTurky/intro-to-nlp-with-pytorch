{
 "cells": [
  {
   "cell_type": "markdown",
   "metadata": {},
   "source": [
    "# Sequence Models\n",
    "This tutorial is closely based off of [Sequence Models and Long-Short Term Memory Networks](https://pytorch.org/tutorials/beginner/nlp/sequence_models_tutorial.html) tutorial on the Pytorch webpage. The original author is Robert Guthrie.\n",
    "\n",
    "In this tutorial, you will learn about LSTM neural networks and see an example of how they can be used to recognize parts of speech."
   ]
  },
  {
   "cell_type": "code",
   "execution_count": 1,
   "metadata": {},
   "outputs": [
    {
     "data": {
      "text/plain": [
       "<torch._C.Generator at 0x11450c070>"
      ]
     },
     "execution_count": 1,
     "metadata": {},
     "output_type": "execute_result"
    }
   ],
   "source": [
    "import math\n",
    "import os\n",
    "import jdc\n",
    "import torch\n",
    "import torch.nn as nn\n",
    "import torch.nn.functional as F\n",
    "import torch.optim as optim\n",
    "from IPython.display import Image\n",
    "\n",
    "torch.manual_seed(1)"
   ]
  },
  {
   "cell_type": "markdown",
   "metadata": {},
   "source": [
    "## Introduction\n",
    "### What is an LSTM?\n",
    "LSTM stands for Long Short-Term Memory. It is a type of recurrent neural network (RNN). RNNs are neural networks that can learn relationships within sequences, such as time series or sentences. A normal RNN has difficulty learning relationships when there is a large separation within the sequence. For example, consider the sequence: _The humidity is very high. Today it is going to_ _**rain**_. A regular RNN might not do a good job predicting the word **rain**. But, an LSTM could do a much better job with this prediction."
   ]
  },
  {
   "cell_type": "markdown",
   "metadata": {},
   "source": [
    "<img src=\"https://raw.githubusercontent.com/PythonWorkshop/intro-to-nlp-with-pytorch/master/images/lstm_flow.png\" width=50%>"
   ]
  },
  {
   "cell_type": "markdown",
   "metadata": {},
   "source": [
    "The network can learn sequences of information and make predictions based off of what it learns. It is a type of recurrent neural network. The LSTM cell has a state, which gets updated as the network trains. It is this state that allows the network to remember.\n",
    "\n",
    "Here is a basic diagram of an LSTM:"
   ]
  },
  {
   "cell_type": "markdown",
   "metadata": {},
   "source": [
    "<img src=\"https://raw.githubusercontent.com/PythonWorkshop/intro-to-nlp-with-pytorch/master/images/lstm_inner_workings.png\" width=50%>"
   ]
  },
  {
   "cell_type": "markdown",
   "metadata": {},
   "source": [
    "### LSTM Components\n",
    "An LSTM replaces the recurrent model of an RNN with a module that uses a cell state. Gates, composed of sigmoid activation functions, decide what information to keep within the cell state and what information to remove. These gates go by the following names:\n",
    "* Forget Gate\n",
    "* Input Gate\n",
    "* Output Gate"
   ]
  },
  {
   "cell_type": "markdown",
   "metadata": {},
   "source": [
    "#### Forget Gate\n",
    "Here the network decides what information to remove. Continuing with our previous example, let's say the network receives as input low humidity, the network might want to then adjust the rain likelihood for today to low. The forget gate then removes the current state of rain likelihood."
   ]
  },
  {
   "cell_type": "markdown",
   "metadata": {},
   "source": [
    "#### Input Gate.\n",
    "The input gate decides what information to add to the cell state. In our example, it would replace the previous rain likelihood with the new likelihood for dry weather."
   ]
  },
  {
   "cell_type": "markdown",
   "metadata": {},
   "source": [
    "#### Output Gate\n",
    "This gate returns a filtered version of the cell state. For example, it might keep track of the humidities magnitude to help the network decide whether to predict a large storm or just light rain."
   ]
  },
  {
   "cell_type": "markdown",
   "metadata": {},
   "source": [
    "### Very Simple Example 1\n",
    "Before approaching the main example for this tutorial, let's see a very brief example of how to create an LSTM cell in Pytorch and pass information through it. One way to do this is using a **`for`** loop:"
   ]
  },
  {
   "cell_type": "code",
   "execution_count": 2,
   "metadata": {},
   "outputs": [],
   "source": [
    "my_tensor = torch.randn(1, 1, 3)"
   ]
  },
  {
   "cell_type": "code",
   "execution_count": 3,
   "metadata": {},
   "outputs": [
    {
     "data": {
      "text/plain": [
       "tensor([[[0.6614, 0.2669, 0.0617]]])"
      ]
     },
     "execution_count": 3,
     "metadata": {},
     "output_type": "execute_result"
    }
   ],
   "source": [
    "my_tensor"
   ]
  },
  {
   "cell_type": "code",
   "execution_count": 4,
   "metadata": {},
   "outputs": [
    {
     "data": {
      "text/plain": [
       "tensor([[[0.6614, 0.2669, 0.0617]]])"
      ]
     },
     "execution_count": 4,
     "metadata": {},
     "output_type": "execute_result"
    }
   ],
   "source": [
    "my_tensor.view(1, 1, -1)"
   ]
  },
  {
   "cell_type": "code",
   "execution_count": 5,
   "metadata": {},
   "outputs": [
    {
     "name": "stdout",
     "output_type": "stream",
     "text": [
      "tensor([[[-0.1960,  0.4022,  0.0955]]], grad_fn=<StackBackward>)\n",
      "(tensor([[[-0.1960,  0.4022,  0.0955]]], grad_fn=<StackBackward>), tensor([[[-0.6544,  0.5604,  0.7848]]], grad_fn=<StackBackward>))\n",
      "\n",
      "tensor([[[-0.2759,  0.3144,  0.1696]]], grad_fn=<StackBackward>)\n",
      "(tensor([[[-0.2759,  0.3144,  0.1696]]], grad_fn=<StackBackward>), tensor([[[-0.6518,  0.4700,  0.5978]]], grad_fn=<StackBackward>))\n",
      "\n",
      "tensor([[[-0.3945,  0.1052,  0.1429]]], grad_fn=<StackBackward>)\n",
      "(tensor([[[-0.3945,  0.1052,  0.1429]]], grad_fn=<StackBackward>), tensor([[[-0.6290,  0.2144,  0.2851]]], grad_fn=<StackBackward>))\n",
      "\n",
      "tensor([[[-0.3154,  0.0146,  0.1033]]], grad_fn=<StackBackward>)\n",
      "(tensor([[[-0.3154,  0.0146,  0.1033]]], grad_fn=<StackBackward>), tensor([[[-0.6353,  0.0234,  0.2475]]], grad_fn=<StackBackward>))\n",
      "\n",
      "tensor([[[-0.2813,  0.2131,  0.1043]]], grad_fn=<StackBackward>)\n",
      "(tensor([[[-0.2813,  0.2131,  0.1043]]], grad_fn=<StackBackward>), tensor([[[-0.7320,  0.2745,  0.2935]]], grad_fn=<StackBackward>))\n",
      "\n"
     ]
    }
   ],
   "source": [
    "lstm = nn.LSTM(3, 3)  # Input dimension is 3, output dimension is 3\n",
    "inputs = [torch.randn(1, 3) for _ in range(5)]  # Make a sequence of length 5\n",
    "\n",
    "# Initialize the hidden state.\n",
    "hidden = (torch.randn(1, 1, 3),\n",
    "          torch.randn(1, 1, 3))\n",
    "for i in inputs:\n",
    "    # Step through the sequence one element at a time.\n",
    "    # After each time step, hidden contains the hidden state.\n",
    "    out, hidden = lstm(i.view(1, 1, -1), hidden)\n",
    "    print(out)\n",
    "    print(hidden)\n",
    "    print('')"
   ]
  },
  {
   "cell_type": "code",
   "execution_count": 6,
   "metadata": {},
   "outputs": [
    {
     "name": "stdout",
     "output_type": "stream",
     "text": [
      "out: tensor([[[-0.2813,  0.2131,  0.1043]]], grad_fn=<StackBackward>)\n",
      "hidden: (tensor([[[-0.2813,  0.2131,  0.1043]]], grad_fn=<StackBackward>), tensor([[[-0.7320,  0.2745,  0.2935]]], grad_fn=<StackBackward>))\n"
     ]
    }
   ],
   "source": [
    "print('out: {}'.format(out))\n",
    "print('hidden: {}'.format(hidden))"
   ]
  },
  {
   "cell_type": "markdown",
   "metadata": {},
   "source": [
    "### Very Simple Example 2\n",
    "Instead of creating an LSTM using a **`for`** loop, we can use Pytorch's **`cat`** function to string together each layer of the LSTM."
   ]
  },
  {
   "cell_type": "code",
   "execution_count": 7,
   "metadata": {},
   "outputs": [],
   "source": [
    "lstm = nn.LSTM(3, 3)  # Input dimension is 3, output dimension is 3\n",
    "inputs = [torch.randn(1, 3) for _ in range(5)]  # Make a sequence of length 5\n",
    "\n",
    "inputs = torch.cat(inputs).view(len(inputs), 1, -1)\n",
    "hidden = (torch.randn(1, 1, 3), torch.randn(1, 1, 3))  # Clean out hidden state\n",
    "out, hidden = lstm(inputs, hidden)  # out = all states, hidden = last state and last cell state"
   ]
  },
  {
   "cell_type": "code",
   "execution_count": 8,
   "metadata": {},
   "outputs": [
    {
     "name": "stdout",
     "output_type": "stream",
     "text": [
      "out: tensor([[[-0.3722,  0.0537,  0.2904]],\n",
      "\n",
      "        [[-0.4462, -0.0048,  0.1626]],\n",
      "\n",
      "        [[-0.3391, -0.0817, -0.0695]],\n",
      "\n",
      "        [[-0.3841,  0.0629, -0.1056]],\n",
      "\n",
      "        [[-0.4056,  0.0588, -0.1469]]], grad_fn=<StackBackward>)\n",
      "hidden: (tensor([[[-0.4056,  0.0588, -0.1469]]], grad_fn=<StackBackward>), tensor([[[-1.0460,  0.0934, -0.3533]]], grad_fn=<StackBackward>))\n"
     ]
    }
   ],
   "source": [
    "print('out: {}'.format(out))\n",
    "print('hidden: {}'.format(hidden))"
   ]
  },
  {
   "cell_type": "markdown",
   "metadata": {},
   "source": [
    "## Example: An LSTM for Part-of-Speech Tagging\n",
    "In this example, a model will be created that can predict the part-of-speech for each word in a sentence. TODO: Show rolled out LSTM, labeling each word and part of speech."
   ]
  },
  {
   "cell_type": "markdown",
   "metadata": {},
   "source": [
    "### Prepare the data:\n",
    "Let's begin by creating a dataset for training. The dataset will consist of a list of sequences. Each sequence will contain two lists. The first list is a sentence split up into words. The second list contains grammmer identifiers for each word in the sentence."
   ]
  },
  {
   "cell_type": "code",
   "execution_count": 9,
   "metadata": {},
   "outputs": [],
   "source": [
    "training_data = [\n",
    "    (\"The dog ate the apple.\".split(), [\"Determiner\", \"Noun\", \"Verb\", \"Determiner\", \"Noun\"]),\n",
    "    (\"Everybody read that book.\".split(), [\"Noun\", \"Verb\", \"Determiner\", \"Noun\"])\n",
    "]\n",
    "training_sentences = [training_data[x][0] for x in range(len(training_data))]"
   ]
  },
  {
   "cell_type": "markdown",
   "metadata": {},
   "source": [
    "Since Pytorch only understands numbers, we need to map strings, such as the words in the training set, to integers. The following lines of code create a dictionary with this mapping:"
   ]
  },
  {
   "cell_type": "code",
   "execution_count": 10,
   "metadata": {},
   "outputs": [
    {
     "name": "stdout",
     "output_type": "stream",
     "text": [
      "word_to_ix: {'the': 3, 'that': 7, 'apple.': 4, 'read': 6, 'dog': 1, 'ate': 2, 'book.': 8, 'The': 0, 'Everybody': 5}\n"
     ]
    }
   ],
   "source": [
    "word_to_ix = {}\n",
    "for sentence, tags in training_data:\n",
    "    for word in sentence:\n",
    "        if word not in word_to_ix:\n",
    "            word_to_ix[word] = len(word_to_ix)\n",
    "print('word_to_ix: {}'.format(word_to_ix))"
   ]
  },
  {
   "cell_type": "markdown",
   "metadata": {},
   "source": [
    "We also need to map the parts-of-speech tags to integers:"
   ]
  },
  {
   "cell_type": "code",
   "execution_count": 11,
   "metadata": {},
   "outputs": [],
   "source": [
    "# Tags to integers\n",
    "tag_to_ix = {\"Determiner\": 0, \"Noun\": 1, \"Verb\": 2}"
   ]
  },
  {
   "cell_type": "markdown",
   "metadata": {},
   "source": [
    "A third dictionary is used to map the integers back to parts-of-speech."
   ]
  },
  {
   "cell_type": "code",
   "execution_count": 12,
   "metadata": {},
   "outputs": [],
   "source": [
    "# Integers to tags\n",
    "ix_to_tag = {0: \"Determiner\", 1: \"Noun\", 2: \"Verb\"}"
   ]
  },
  {
   "cell_type": "markdown",
   "metadata": {},
   "source": [
    "### Set Hyperparameters"
   ]
  },
  {
   "cell_type": "code",
   "execution_count": 13,
   "metadata": {},
   "outputs": [],
   "source": [
    "EMBEDDING_DIM = 6\n",
    "HIDDEN_DIM = 6\n",
    "LEARNING_RATE = 0.1\n",
    "NUM_EPOCHS = 300"
   ]
  },
  {
   "cell_type": "markdown",
   "metadata": {},
   "source": [
    "### Create the model\n",
    "We will define the model by creating a Python class object. This class will inherit the nn.Module class from Pytorch, which will allow us to easily use the neural network classes defined in Pytorch."
   ]
  },
  {
   "cell_type": "markdown",
   "metadata": {},
   "source": [
    "The **`LSTMTagger`** class will take in four values, the embedding dimension, the number of hidden dimensions, the vocabulary size, and the size of the tag set."
   ]
  },
  {
   "cell_type": "code",
   "execution_count": 14,
   "metadata": {},
   "outputs": [],
   "source": [
    "class LSTMTagger(nn.Module):\n",
    "\n",
    "    def __init__(self, embedding_dim, hidden_dim, vocab_size, tagset_size):\n",
    "        super(LSTMTagger, self).__init__()\n",
    "        self.hidden_dim = hidden_dim\n",
    "        self.word_embeddings = nn.Embedding(vocab_size, embedding_dim)\n",
    "\n",
    "        # LSTM: Inputs are embeddings, outputs are hidden states\n",
    "        self.lstm = nn.LSTM(embedding_dim, hidden_dim)\n",
    "\n",
    "        # Linear layer maps hidden space to tag space\n",
    "        self.hidden2tag = nn.Linear(hidden_dim, tagset_size)\n",
    "        self.hidden = self.init_hidden()"
   ]
  },
  {
   "cell_type": "markdown",
   "metadata": {},
   "source": [
    "We will now create a function to initialize the hidden states."
   ]
  },
  {
   "cell_type": "code",
   "execution_count": 15,
   "metadata": {},
   "outputs": [],
   "source": [
    "%%add_to LSTMTagger\n",
    "def init_hidden(self):\n",
    "    \"\"\"\n",
    "    Initialize the hidden state. The axes correspond to (num_layers, minibatch_size, hidden_dim).\n",
    "    \"\"\"\n",
    "    return (torch.zeros(1, 1, self.hidden_dim),\n",
    "            torch.zeros(1, 1, self.hidden_dim))"
   ]
  },
  {
   "cell_type": "markdown",
   "metadata": {},
   "source": [
    "Now we define a function to make a forward pass through the recurrent LSTM network. It will return the predict tag values given an input sentence."
   ]
  },
  {
   "cell_type": "code",
   "execution_count": 16,
   "metadata": {},
   "outputs": [],
   "source": [
    "%%add_to LSTMTagger\n",
    "def forward(self, sentence):\n",
    "    \"\"\"\n",
    "    Make a forward pass through the LSTM.\n",
    "    \n",
    "    :param sentence: The input sentence.\n",
    "    :type sentence: list\n",
    "    :return: A Tensor of tag scores.\n",
    "    :rtype: Tensor\n",
    "    \"\"\"\n",
    "    embeds = self.word_embeddings(sentence)\n",
    "    lstm_out, self.hidden = self.lstm(\n",
    "        embeds.view(len(sentence), 1, -1), self.hidden)\n",
    "    tag_space = self.hidden2tag(lstm_out.view(len(sentence), -1))\n",
    "    tag_scores = F.log_softmax(tag_space, dim=1)\n",
    "    return tag_scores"
   ]
  },
  {
   "cell_type": "markdown",
   "metadata": {},
   "source": [
    "### Helper Function\n",
    "This helper function will be used to map either words or tags to integers, using the previously defined dictionaries (**`tag_to_ix`**, **`ix_to_tag`**)."
   ]
  },
  {
   "cell_type": "code",
   "execution_count": 17,
   "metadata": {},
   "outputs": [],
   "source": [
    "def prepare_sequence(seq, to_ix):\n",
    "    \"\"\"\n",
    "    Convert words or tags to intigers and return a Pytorch tensor.\n",
    "    :param seq: Sequence of words.\n",
    "    :type seq: list\n",
    "    :param to_ix: Dictionary mapping words or tags to intigers.\n",
    "    :return: A Pytorch tensor of indices.\n",
    "    :rtype: Tensor\n",
    "    \"\"\"\n",
    "    idxs = [to_ix[w] for w in seq]\n",
    "    return torch.tensor(idxs, dtype=torch.long)"
   ]
  },
  {
   "cell_type": "markdown",
   "metadata": {},
   "source": [
    "### Train the model:"
   ]
  },
  {
   "cell_type": "markdown",
   "metadata": {},
   "source": [
    "Create the LSTM Pytorch model using the hyperparameters defined above."
   ]
  },
  {
   "cell_type": "code",
   "execution_count": 18,
   "metadata": {},
   "outputs": [],
   "source": [
    "model = LSTMTagger(EMBEDDING_DIM, HIDDEN_DIM, len(word_to_ix), len(tag_to_ix))"
   ]
  },
  {
   "cell_type": "markdown",
   "metadata": {},
   "source": [
    "Define the loss function. In this case, we will be using a negative log likelihood function, which is useful in classification problems."
   ]
  },
  {
   "cell_type": "code",
   "execution_count": 19,
   "metadata": {},
   "outputs": [],
   "source": [
    "loss_function = nn.NLLLoss()"
   ]
  },
  {
   "cell_type": "markdown",
   "metadata": {},
   "source": [
    "We can illustrate negative log likelihood in the following diagram:"
   ]
  },
  {
   "cell_type": "markdown",
   "metadata": {},
   "source": [
    "<img src=\"https://raw.githubusercontent.com/PythonWorkshop/intro-to-nlp-with-pytorch/master/images/nll_loss.png\" width=50%>"
   ]
  },
  {
   "cell_type": "markdown",
   "metadata": {},
   "source": [
    "We will train the model using stochastic gradient descent."
   ]
  },
  {
   "cell_type": "code",
   "execution_count": 20,
   "metadata": {},
   "outputs": [],
   "source": [
    "optimizer = optim.SGD(model.parameters(), lr=LEARNING_RATE)"
   ]
  },
  {
   "cell_type": "markdown",
   "metadata": {},
   "source": [
    "Let's run the model before any training has been done and store the scores to a **`list`**. We will then compare these scores with the scores after training."
   ]
  },
  {
   "cell_type": "code",
   "execution_count": 21,
   "metadata": {},
   "outputs": [],
   "source": [
    "store_initial_probabilities = []\n",
    "store_initial_predictions = []\n",
    "with torch.no_grad():\n",
    "    for sentence in training_sentences:\n",
    "        inputs = prepare_sequence(sentence, word_to_ix)\n",
    "        tag_scores = model(inputs)\n",
    "        tag_probabilities = tag_scores.exp()\n",
    "        max_values, max_indices = torch.max(tag_probabilities, 1)\n",
    "        initial_prediction = [ix_to_tag[x] for x in max_indices.numpy()]\n",
    "        store_initial_predictions.append(initial_prediction)\n",
    "        store_initial_probabilities.append(tag_probabilities)"
   ]
  },
  {
   "cell_type": "markdown",
   "metadata": {},
   "source": [
    "Now, we will train the model."
   ]
  },
  {
   "cell_type": "code",
   "execution_count": 22,
   "metadata": {},
   "outputs": [],
   "source": [
    "for epoch in range(NUM_EPOCHS):\n",
    "    for sentence, tags in training_data:\n",
    "        # Set gradients equal to zero after each intance\n",
    "        model.zero_grad()\n",
    "        \n",
    "        # Initialize hidden state of LSTM after each intance\n",
    "        model.hidden = model.init_hidden()\n",
    "        \n",
    "        # Turn inputs into tensors of word indices\n",
    "        sentence_in = prepare_sequence(sentence, word_to_ix)\n",
    "        targets = prepare_sequence(tags, tag_to_ix)\n",
    "        \n",
    "        # Run forward pass\n",
    "        tag_scores = model(sentence_in)\n",
    "        \n",
    "        # Compute the loss, gradients, and update the parameters\n",
    "        loss = loss_function(tag_scores, targets)\n",
    "        \n",
    "        # Perform backward pass\n",
    "        loss.backward()\n",
    "        \n",
    "        # Update model parameters\n",
    "        optimizer.step()"
   ]
  },
  {
   "cell_type": "markdown",
   "metadata": {},
   "source": [
    "Our model has now finished training. Let's print out some statistics to show how well the model training performed. TODO: Understand what numbers for scores mean and create diagram."
   ]
  },
  {
   "cell_type": "code",
   "execution_count": 23,
   "metadata": {},
   "outputs": [
    {
     "name": "stdout",
     "output_type": "stream",
     "text": [
      "Before training:\n",
      " - initial probabilities: tensor([[0.4544, 0.2701, 0.2754],\n",
      "        [0.4564, 0.2645, 0.2790],\n",
      "        [0.4570, 0.2712, 0.2719],\n",
      "        [0.4797, 0.2384, 0.2819],\n",
      "        [0.4843, 0.2447, 0.2709]])\n",
      " - sentence: The dog ate the apple.\n",
      " - predicition: ['Determiner', 'Determiner', 'Determiner', 'Determiner', 'Determiner']\n",
      "After training:\n",
      " - final probabilities: tensor([[0.7180, 0.1744, 0.1075],\n",
      "        [0.0044, 0.9745, 0.0212],\n",
      "        [0.0186, 0.0261, 0.9553],\n",
      "        [0.9473, 0.0487, 0.0040],\n",
      "        [0.0528, 0.9386, 0.0086]])\n",
      " - sentence: The dog ate the apple.\n",
      " - prediction: ['Determiner', 'Noun', 'Verb', 'Determiner', 'Noun']\n",
      "\n",
      "Before training:\n",
      " - initial probabilities: tensor([[0.4776, 0.2407, 0.2817],\n",
      "        [0.4781, 0.2576, 0.2643],\n",
      "        [0.4873, 0.2377, 0.2751],\n",
      "        [0.4669, 0.2237, 0.3094]])\n",
      " - sentence: Everybody read that book.\n",
      " - predicition: ['Determiner', 'Determiner', 'Determiner', 'Determiner']\n",
      "After training:\n",
      " - final probabilities: tensor([[0.0160, 0.9708, 0.0132],\n",
      "        [0.0155, 0.0308, 0.9537],\n",
      "        [0.9813, 0.0078, 0.0109],\n",
      "        [0.0056, 0.9832, 0.0112]])\n",
      " - sentence: Everybody read that book.\n",
      " - prediction: ['Noun', 'Verb', 'Determiner', 'Noun']\n",
      "\n"
     ]
    }
   ],
   "source": [
    "# Print out the scores after training the model\n",
    "store_initial_probabilities.reverse()\n",
    "store_initial_predictions.reverse()\n",
    "with torch.no_grad():\n",
    "    for sentence in training_sentences:\n",
    "        inputs = prepare_sequence(sentence, word_to_ix)\n",
    "        tag_scores = model(inputs)\n",
    "        tag_probabilities = tag_scores.exp()\n",
    "        max_values, max_indices = torch.max(tag_probabilities, 1)\n",
    "        predictions = [ix_to_tag[x] for x in max_indices.numpy()]\n",
    "        \n",
    "        print('Before training:')\n",
    "        print(' - initial probabilities: {}'.format(store_initial_probabilities.pop()))\n",
    "        print(' - sentence: {}'.format(' '.join(sentence)))\n",
    "        print(' - predicition: {}'.format(store_initial_predictions.pop()))\n",
    "        print('After training:')\n",
    "        print(' - final probabilities: {}'.format(tag_probabilities))\n",
    "        print(' - sentence: {}'.format(' '.join(sentence)))\n",
    "        print(' - prediction: {}'.format(predictions))\n",
    "        print('')"
   ]
  },
  {
   "cell_type": "markdown",
   "metadata": {},
   "source": [
    "### What do the scores mean?\n",
    "The scores are used to predict the parts-of-speech for each word in a sentence. A corresponding list of of possible parts-of-speech is assigned to each word. This list is the same for all data passed through the model. For example:"
   ]
  },
  {
   "cell_type": "code",
   "execution_count": 24,
   "metadata": {},
   "outputs": [
    {
     "name": "stdout",
     "output_type": "stream",
     "text": [
      "Let us take the sentence: The dog ate the apple.\n",
      "For the word \"The\" the list of possible parts-of-speech are: ['Determiner', 'Noun', 'Verb']\n"
     ]
    }
   ],
   "source": [
    "print('Let us take the sentence: {}'.format(' '.join(training_sentences[0])))\n",
    "print('For the word \"{}\" the list of possible parts-of-speech are: {}'.format(training_sentences[0][0], [x for x in ix_to_tag.values()]))"
   ]
  },
  {
   "cell_type": "markdown",
   "metadata": {},
   "source": [
    "The model assigns a scores to each part-of-speech in the list. The prediction is then the part-of-speech with the highest score. If the model makes a correct prediction, then `Determiner` will have the highest score."
   ]
  },
  {
   "cell_type": "code",
   "execution_count": null,
   "metadata": {},
   "outputs": [],
   "source": []
  }
 ],
 "metadata": {
  "kernelspec": {
   "display_name": "Python 3",
   "language": "python",
   "name": "python3"
  },
  "language_info": {
   "codemirror_mode": {
    "name": "ipython",
    "version": 3
   },
   "file_extension": ".py",
   "mimetype": "text/x-python",
   "name": "python",
   "nbconvert_exporter": "python",
   "pygments_lexer": "ipython3",
   "version": "3.5.5"
  }
 },
 "nbformat": 4,
 "nbformat_minor": 2
}
